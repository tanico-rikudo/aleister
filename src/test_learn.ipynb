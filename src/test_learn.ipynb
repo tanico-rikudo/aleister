{
 "cells": [
  {
   "cell_type": "code",
   "execution_count": 1,
   "metadata": {},
   "outputs": [],
   "source": [
    "%load_ext autoreload\n",
    "%autoreload 2\n",
    "import pandas as pd\n",
    "import json\n",
    "import os,sys\n",
    "os.environ['BASE_DIR'] = os.path.dirname(os.path.dirname(os.path.dirname(os.path.abspath(\"__file__\"))))\n",
    "os.environ['COMMON_DIR'] = os.path.join(os.environ['BASE_DIR'], \"geco_commons\")\n",
    "sys.path.append(os.path.join(os.environ['COMMON_DIR'],\"util\" ))\n",
    "from daylib import daylib  as dl"
   ]
  },
  {
   "cell_type": "code",
   "execution_count": 2,
   "metadata": {},
   "outputs": [
    {
     "name": "stderr",
     "output_type": "stream",
     "text": [
      "/usr/local/lib/python3.7/dist-packages/torch/utils/tensorboard/__init__.py:6: DeprecationWarning: distutils Version classes are deprecated. Use packaging.version instead.\n",
      "  if not hasattr(tensorboard, '__version__') or LooseVersion(tensorboard.__version__) < LooseVersion('1.15'):\n",
      "/usr/local/lib/python3.7/dist-packages/torch/utils/tensorboard/__init__.py:6: DeprecationWarning: distutils Version classes are deprecated. Use packaging.version instead.\n",
      "  if not hasattr(tensorboard, '__version__') or LooseVersion(tensorboard.__version__) < LooseVersion('1.15'):\n"
     ]
    },
    {
     "name": "stdout",
     "output_type": "stream",
     "text": [
      "Log path = /root/src/aleister/log/logging.log\n"
     ]
    }
   ],
   "source": [
    "\n",
    "\n",
    "import master\n",
    "from master import *\n",
    "from datetime import datetime as dt"
   ]
  },
  {
   "cell_type": "code",
   "execution_count": 3,
   "metadata": {},
   "outputs": [],
   "source": [
    "# args=['--execute_mode',\"prepro\",'--config_source','ini','--model_id','test001',\n",
    "#       '-train_sd','20210101','-train_ed','20210103',\n",
    "#       '-valid_sd','20210104','-train_ed','20210105',\n",
    "#       '-test_sd','20210106','-test_ed','20210107']\n",
    "args=['--symbol','BTC', '--execute_mode',\"gtrain\",\n",
    "      '--model_id','test002','--model_name','slstm',\n",
    "      '--config_source','ini',\n",
    "      '--user',\"Misaka00001\", '--source','ipynb',\n",
    "      \"--general_config_mode\", \"DOCKER\",\"--private_api_mode\",\"DEFAULT\",\n",
    "      '-train_sd','20210101','-train_ed','20210103',\n",
    "      '-valid_sd','20210104','-valid_ed','20210105',\n",
    "      '-test_sd','20210106','-test_ed','20210107']"
   ]
  },
  {
   "cell_type": "code",
   "execution_count": 4,
   "metadata": {},
   "outputs": [
    {
     "name": "stdout",
     "output_type": "stream",
     "text": [
      "Log path = /root/src/aleister/log/logging.log\n",
      "Log path = /root/src/aleister/log/logging.log\n"
     ]
    }
   ],
   "source": [
    "parser = make_parser()\n",
    "arg_dict = vars(parser.parse_args(args))\n",
    "\n",
    "# meta\n",
    "_id = arg_dict[\"model_id\"]\n",
    "general_config_mode = arg_dict[\"general_config_mode\"].upper()\n",
    "private_api_mode = arg_dict[\"private_api_mode\"].upper()\n",
    "sym = arg_dict[\"symbol\"]\n",
    "\n",
    "model_name = arg_dict[\"model_name\"].upper()\n",
    "\n",
    "om = OperateMaster()\n",
    "om.load_meta(_id, model_name, sym, general_config_mode, private_api_mode)\n",
    "om.init_prepro()\n",
    "\n",
    "# mlflow\n",
    "mlflow_tags = {\n",
    "    MLFLOW_USER: arg_dict[\"user\"],\n",
    "    MLFLOW_SOURCE_NAME: arg_dict[\"source\"],\n",
    "    MLFLOW_RUN_NAME: f\"TRAIN_{dt.now().strftime('%y%m%d%H%M%s')}\"\n",
    "}\n",
    "mlflow_client_kwargs = {\n",
    "    \"tracking_uri\": os.environ['MLFLOW_TRACKING_URI']\n",
    "}\n",
    "om.set_mlflow_settings(mlflow_client_kwargs, mlflow_tags)\n",
    "\n",
    "# load conofigs into each module\n",
    "om.init_learning()\n"
   ]
  },
  {
   "cell_type": "code",
   "execution_count": null,
   "metadata": {},
   "outputs": [],
   "source": [
    "\n",
    "if arg_dict[\"execute_mode\"] == \"prepro\":\n",
    "    om.init_dataGen()\n",
    "    # period\n",
    "    train_start = arg_dict[\"train_start_date\"] if \"train_start_date\" in arg_dict.keys() else None\n",
    "    train_end = arg_dict[\"train_end_date\"] if \"train_end_date\" in arg_dict.keys() else None\n",
    "    valid_start = arg_dict[\"valid_start_date\"] if \"valid_start_date\" in arg_dict.keys() else None\n",
    "    valid_end = arg_dict[\"valid_end_date\"] if \"valid_end_date\" in arg_dict.keys() else None\n",
    "    test_start = arg_dict[\"test_start_date\"] if \"test_start_date\" in arg_dict.keys() else None\n",
    "    test_end = arg_dict[\"test_end_date\"] if \"test_end_date\" in arg_dict.keys() else None\n",
    "    om.preprocessing(sym, train_start, train_end, valid_start, valid_end, test_start, test_end)\n",
    "else:\n",
    "    if arg_dict[\"execute_mode\"] == \"train\":\n",
    "        om.train()\n",
    "    elif arg_dict[\"execute_mode\"] == \"gtrain\":\n",
    "        om.gtrain()\n",
    "    elif arg_dict[\"execute_mode\"] == \"deploy_model\":\n",
    "        om.deploy_best_model()\n",
    "    elif arg_dict[\"execute_mode\"] == \"rpredict\":\n",
    "        om.init_dataGen(remote=True)\n",
    "        om.realtime_predict()"
   ]
  },
  {
   "cell_type": "code",
   "execution_count": 12,
   "metadata": {},
   "outputs": [
    {
     "data": {
      "text/plain": [
       "<feature_preprocess.featurePreprocess at 0x7efd80daa4d0>"
      ]
     },
     "execution_count": 12,
     "metadata": {},
     "output_type": "execute_result"
    }
   ],
   "source": [
    "om.fp"
   ]
  },
  {
   "cell_type": "code",
   "execution_count": 25,
   "metadata": {
    "tags": []
   },
   "outputs": [
    {
     "name": "stdout",
     "output_type": "stream",
     "text": [
      "Log path = /root/src/kuloko/logging.log\n"
     ]
    },
    {
     "ename": "NameError",
     "evalue": "name 'trades' is not defined",
     "output_type": "error",
     "traceback": [
      "\u001b[0;31m---------------------------------------------------------------------------\u001b[0m",
      "\u001b[0;31mNameError\u001b[0m                                 Traceback (most recent call last)",
      "\u001b[0;32m/tmp/ipykernel_171/415397531.py\u001b[0m in \u001b[0;36m<module>\u001b[0;34m\u001b[0m\n\u001b[1;32m      1\u001b[0m \u001b[0mom\u001b[0m\u001b[0;34m.\u001b[0m\u001b[0minit_dataGen\u001b[0m\u001b[0;34m(\u001b[0m\u001b[0mremote\u001b[0m\u001b[0;34m=\u001b[0m\u001b[0;32mTrue\u001b[0m\u001b[0;34m)\u001b[0m\u001b[0;34m\u001b[0m\u001b[0;34m\u001b[0m\u001b[0m\n\u001b[0;32m----> 2\u001b[0;31m \u001b[0mom\u001b[0m\u001b[0;34m.\u001b[0m\u001b[0mrealtime_predict\u001b[0m\u001b[0;34m(\u001b[0m\u001b[0;34m)\u001b[0m\u001b[0;34m\u001b[0m\u001b[0;34m\u001b[0m\u001b[0m\n\u001b[0m",
      "\u001b[0;32m~/src/master.py\u001b[0m in \u001b[0;36mrealtime_predict\u001b[0;34m(self)\u001b[0m\n\u001b[1;32m     89\u001b[0m     \u001b[0;32mdef\u001b[0m \u001b[0mrealtime_predict\u001b[0m\u001b[0;34m(\u001b[0m\u001b[0mself\u001b[0m\u001b[0;34m)\u001b[0m\u001b[0;34m:\u001b[0m\u001b[0;34m\u001b[0m\u001b[0;34m\u001b[0m\u001b[0m\n\u001b[1;32m     90\u001b[0m         \u001b[0mscaler\u001b[0m \u001b[0;34m=\u001b[0m \u001b[0mself\u001b[0m\u001b[0;34m.\u001b[0m\u001b[0mfp\u001b[0m\u001b[0;34m.\u001b[0m\u001b[0mload_numpy_datas\u001b[0m\u001b[0;34m(\u001b[0m\u001b[0;34m[\u001b[0m\u001b[0;34m\"x_scaler\"\u001b[0m\u001b[0;34m]\u001b[0m\u001b[0;34m)\u001b[0m\u001b[0;34m\u001b[0m\u001b[0;34m\u001b[0m\u001b[0m\n\u001b[0;32m---> 91\u001b[0;31m         \u001b[0mX\u001b[0m \u001b[0;34m=\u001b[0m \u001b[0mself\u001b[0m\u001b[0;34m.\u001b[0m\u001b[0mrealtime_preprocessing\u001b[0m\u001b[0;34m(\u001b[0m\u001b[0mself\u001b[0m\u001b[0;34m.\u001b[0m\u001b[0mfp\u001b[0m\u001b[0;34m.\u001b[0m\u001b[0mgeneral_config\u001b[0m\u001b[0;34m,\u001b[0m \u001b[0mself\u001b[0m\u001b[0;34m.\u001b[0m\u001b[0mfp\u001b[0m\u001b[0;34m.\u001b[0m\u001b[0m_logger\u001b[0m\u001b[0;34m,\u001b[0m \u001b[0mscaler\u001b[0m\u001b[0;34m)\u001b[0m\u001b[0;34m\u001b[0m\u001b[0;34m\u001b[0m\u001b[0m\n\u001b[0m\u001b[1;32m     92\u001b[0m \u001b[0;34m\u001b[0m\u001b[0m\n\u001b[1;32m     93\u001b[0m         \u001b[0;31m# todo: mode conider\u001b[0m\u001b[0;34m\u001b[0m\u001b[0;34m\u001b[0m\u001b[0;34m\u001b[0m\u001b[0m\n",
      "\u001b[0;32m~/src/master.py\u001b[0m in \u001b[0;36mrealtime_preprocessing\u001b[0;34m(self, general_config, logger, scaler)\u001b[0m\n\u001b[1;32m     81\u001b[0m \u001b[0;34m\u001b[0m\u001b[0m\n\u001b[1;32m     82\u001b[0m         \u001b[0;31m# prepro\u001b[0m\u001b[0;34m\u001b[0m\u001b[0;34m\u001b[0m\u001b[0;34m\u001b[0m\u001b[0m\n\u001b[0;32m---> 83\u001b[0;31m         \u001b[0mX\u001b[0m \u001b[0;34m=\u001b[0m \u001b[0mself\u001b[0m\u001b[0;34m.\u001b[0m\u001b[0mdg\u001b[0m\u001b[0;34m.\u001b[0m\u001b[0mget_Xy\u001b[0m\u001b[0;34m(\u001b[0m\u001b[0mtrades\u001b[0m\u001b[0;34m,\u001b[0m \u001b[0morderbooks\u001b[0m\u001b[0;34m)\u001b[0m\u001b[0;34m\u001b[0m\u001b[0;34m\u001b[0m\u001b[0m\n\u001b[0m\u001b[1;32m     84\u001b[0m         \u001b[0mX\u001b[0m\u001b[0;34m,\u001b[0m \u001b[0m_\u001b[0m \u001b[0;34m=\u001b[0m \u001b[0mself\u001b[0m\u001b[0;34m.\u001b[0m\u001b[0mfp\u001b[0m\u001b[0;34m.\u001b[0m\u001b[0mfeature_label_split\u001b[0m\u001b[0;34m(\u001b[0m\u001b[0mdf\u001b[0m\u001b[0;34m=\u001b[0m\u001b[0mX\u001b[0m\u001b[0;34m,\u001b[0m \u001b[0mtarget_col\u001b[0m\u001b[0;34m=\u001b[0m\u001b[0mans_col\u001b[0m\u001b[0;34m)\u001b[0m\u001b[0;34m\u001b[0m\u001b[0;34m\u001b[0m\u001b[0m\n\u001b[1;32m     85\u001b[0m         \u001b[0mX\u001b[0m\u001b[0;34m,\u001b[0m \u001b[0m_\u001b[0m \u001b[0;34m=\u001b[0m \u001b[0mself\u001b[0m\u001b[0;34m.\u001b[0m\u001b[0mfp\u001b[0m\u001b[0;34m.\u001b[0m\u001b[0mscalingX\u001b[0m\u001b[0;34m(\u001b[0m\u001b[0mX\u001b[0m\u001b[0;34m,\u001b[0m \u001b[0mscaself\u001b[0m\u001b[0;34m.\u001b[0m\u001b[0mler\u001b[0m\u001b[0;34m)\u001b[0m\u001b[0;34m\u001b[0m\u001b[0;34m\u001b[0m\u001b[0m\n",
      "\u001b[0;31mNameError\u001b[0m: name 'trades' is not defined"
     ]
    }
   ],
   "source": [
    "om.init_dataGen(remote=True)\n",
    "om.realtime_predict()"
   ]
  },
  {
   "cell_type": "code",
   "execution_count": 53,
   "metadata": {
    "tags": []
   },
   "outputs": [
    {
     "ename": "ChannelWrongStateError",
     "evalue": "Channel is closed.",
     "output_type": "error",
     "traceback": [
      "\u001b[0;31m---------------------------------------------------------------------------\u001b[0m",
      "\u001b[0;31mChannelWrongStateError\u001b[0m                    Traceback (most recent call last)",
      "\u001b[0;32m/tmp/ipykernel_171/2990088545.py\u001b[0m in \u001b[0;36m<module>\u001b[0;34m\u001b[0m\n\u001b[0;32m----> 1\u001b[0;31m \u001b[0mrealtime_data\u001b[0m \u001b[0;34m=\u001b[0m \u001b[0mom\u001b[0m\u001b[0;34m.\u001b[0m\u001b[0mdg\u001b[0m\u001b[0;34m.\u001b[0m\u001b[0mmq_rpc_client\u001b[0m\u001b[0;34m[\u001b[0m\u001b[0;34m\"realtime\"\u001b[0m\u001b[0;34m]\u001b[0m\u001b[0;34m.\u001b[0m\u001b[0mcall\u001b[0m\u001b[0;34m(\u001b[0m\u001b[0;34m\"\"\u001b[0m\u001b[0;34m)\u001b[0m\u001b[0;34m\u001b[0m\u001b[0;34m\u001b[0m\u001b[0m\n\u001b[0m",
      "\u001b[0;32m/root/src/geco_commons/mq/mq_handler.py\u001b[0m in \u001b[0;36mcall\u001b[0;34m(self, commannd_msg)\u001b[0m\n\u001b[1;32m    100\u001b[0m                 \u001b[0mcorrelation_id\u001b[0m\u001b[0;34m=\u001b[0m\u001b[0mself\u001b[0m\u001b[0;34m.\u001b[0m\u001b[0mcorr_id\u001b[0m\u001b[0;34m,\u001b[0m\u001b[0;34m\u001b[0m\u001b[0;34m\u001b[0m\u001b[0m\n\u001b[1;32m    101\u001b[0m             ),\n\u001b[0;32m--> 102\u001b[0;31m             body=str(commannd_msg))\n\u001b[0m\u001b[1;32m    103\u001b[0m         \u001b[0mprint\u001b[0m\u001b[0;34m(\u001b[0m\u001b[0mself\u001b[0m\u001b[0;34m.\u001b[0m\u001b[0mresponse\u001b[0m\u001b[0;34m)\u001b[0m\u001b[0;34m\u001b[0m\u001b[0;34m\u001b[0m\u001b[0m\n\u001b[1;32m    104\u001b[0m \u001b[0;34m\u001b[0m\u001b[0m\n",
      "\u001b[0;32m/usr/local/lib/python3.7/dist-packages/pika/adapters/blocking_connection.py\u001b[0m in \u001b[0;36mbasic_publish\u001b[0;34m(self, exchange, routing_key, body, properties, mandatory)\u001b[0m\n\u001b[1;32m   2244\u001b[0m                 \u001b[0mbody\u001b[0m\u001b[0;34m=\u001b[0m\u001b[0mbody\u001b[0m\u001b[0;34m,\u001b[0m\u001b[0;34m\u001b[0m\u001b[0;34m\u001b[0m\u001b[0m\n\u001b[1;32m   2245\u001b[0m                 \u001b[0mproperties\u001b[0m\u001b[0;34m=\u001b[0m\u001b[0mproperties\u001b[0m\u001b[0;34m,\u001b[0m\u001b[0;34m\u001b[0m\u001b[0;34m\u001b[0m\u001b[0m\n\u001b[0;32m-> 2246\u001b[0;31m                 mandatory=mandatory)\n\u001b[0m\u001b[1;32m   2247\u001b[0m             \u001b[0mself\u001b[0m\u001b[0;34m.\u001b[0m\u001b[0m_flush_output\u001b[0m\u001b[0;34m(\u001b[0m\u001b[0;34m)\u001b[0m\u001b[0;34m\u001b[0m\u001b[0;34m\u001b[0m\u001b[0m\n\u001b[1;32m   2248\u001b[0m \u001b[0;34m\u001b[0m\u001b[0m\n",
      "\u001b[0;32m/usr/local/lib/python3.7/dist-packages/pika/channel.py\u001b[0m in \u001b[0;36mbasic_publish\u001b[0;34m(self, exchange, routing_key, body, properties, mandatory)\u001b[0m\n\u001b[1;32m    421\u001b[0m \u001b[0;34m\u001b[0m\u001b[0m\n\u001b[1;32m    422\u001b[0m         \"\"\"\n\u001b[0;32m--> 423\u001b[0;31m         \u001b[0mself\u001b[0m\u001b[0;34m.\u001b[0m\u001b[0m_raise_if_not_open\u001b[0m\u001b[0;34m(\u001b[0m\u001b[0;34m)\u001b[0m\u001b[0;34m\u001b[0m\u001b[0;34m\u001b[0m\u001b[0m\n\u001b[0m\u001b[1;32m    424\u001b[0m         \u001b[0;32mif\u001b[0m \u001b[0misinstance\u001b[0m\u001b[0;34m(\u001b[0m\u001b[0mbody\u001b[0m\u001b[0;34m,\u001b[0m \u001b[0municode_type\u001b[0m\u001b[0;34m)\u001b[0m\u001b[0;34m:\u001b[0m\u001b[0;34m\u001b[0m\u001b[0;34m\u001b[0m\u001b[0m\n\u001b[1;32m    425\u001b[0m             \u001b[0mbody\u001b[0m \u001b[0;34m=\u001b[0m \u001b[0mbody\u001b[0m\u001b[0;34m.\u001b[0m\u001b[0mencode\u001b[0m\u001b[0;34m(\u001b[0m\u001b[0;34m'utf-8'\u001b[0m\u001b[0;34m)\u001b[0m\u001b[0;34m\u001b[0m\u001b[0;34m\u001b[0m\u001b[0m\n",
      "\u001b[0;32m/usr/local/lib/python3.7/dist-packages/pika/channel.py\u001b[0m in \u001b[0;36m_raise_if_not_open\u001b[0;34m(self)\u001b[0m\n\u001b[1;32m   1391\u001b[0m         \u001b[0;31m# Assumed self.CLOSED\u001b[0m\u001b[0;34m\u001b[0m\u001b[0;34m\u001b[0m\u001b[0;34m\u001b[0m\u001b[0m\n\u001b[1;32m   1392\u001b[0m         \u001b[0;32massert\u001b[0m \u001b[0mself\u001b[0m\u001b[0;34m.\u001b[0m\u001b[0m_state\u001b[0m \u001b[0;34m==\u001b[0m \u001b[0mself\u001b[0m\u001b[0;34m.\u001b[0m\u001b[0mCLOSED\u001b[0m\u001b[0;34m\u001b[0m\u001b[0;34m\u001b[0m\u001b[0m\n\u001b[0;32m-> 1393\u001b[0;31m         \u001b[0;32mraise\u001b[0m \u001b[0mexceptions\u001b[0m\u001b[0;34m.\u001b[0m\u001b[0mChannelWrongStateError\u001b[0m\u001b[0;34m(\u001b[0m\u001b[0;34m'Channel is closed.'\u001b[0m\u001b[0;34m)\u001b[0m\u001b[0;34m\u001b[0m\u001b[0;34m\u001b[0m\u001b[0m\n\u001b[0m\u001b[1;32m   1394\u001b[0m \u001b[0;34m\u001b[0m\u001b[0m\n\u001b[1;32m   1395\u001b[0m     \u001b[0;32mdef\u001b[0m \u001b[0m_send_method\u001b[0m\u001b[0;34m(\u001b[0m\u001b[0mself\u001b[0m\u001b[0;34m,\u001b[0m \u001b[0mmethod\u001b[0m\u001b[0;34m,\u001b[0m \u001b[0mcontent\u001b[0m\u001b[0;34m=\u001b[0m\u001b[0;32mNone\u001b[0m\u001b[0;34m)\u001b[0m\u001b[0;34m:\u001b[0m\u001b[0;34m\u001b[0m\u001b[0;34m\u001b[0m\u001b[0m\n",
      "\u001b[0;31mChannelWrongStateError\u001b[0m: Channel is closed."
     ]
    }
   ],
   "source": [
    "realtime_data = om.dg.mq_rpc_client[\"realtime\"].call(\"\")"
   ]
  },
  {
   "cell_type": "code",
   "execution_count": 49,
   "metadata": {},
   "outputs": [],
   "source": [
    "import json "
   ]
  },
  {
   "cell_type": "code",
   "execution_count": 61,
   "metadata": {},
   "outputs": [
    {
     "name": "stdout",
     "output_type": "stream",
     "text": [
      "orderbook\n",
      "trade\n",
      "margin\n",
      "ticker\n"
     ]
    }
   ],
   "source": [
    "for _key in json.loads(realtime_data).keys():\n",
    "    print(_key)"
   ]
  },
  {
   "cell_type": "code",
   "execution_count": 56,
   "metadata": {},
   "outputs": [
    {
     "data": {
      "text/html": [
       "<div>\n",
       "<style scoped>\n",
       "    .dataframe tbody tr th:only-of-type {\n",
       "        vertical-align: middle;\n",
       "    }\n",
       "\n",
       "    .dataframe tbody tr th {\n",
       "        vertical-align: top;\n",
       "    }\n",
       "\n",
       "    .dataframe thead th {\n",
       "        text-align: right;\n",
       "    }\n",
       "</style>\n",
       "<table border=\"1\" class=\"dataframe\">\n",
       "  <thead>\n",
       "    <tr style=\"text-align: right;\">\n",
       "      <th></th>\n",
       "      <th>time</th>\n",
       "      <th>symbol</th>\n",
       "      <th>bids0</th>\n",
       "      <th>bids0_size</th>\n",
       "      <th>bids1</th>\n",
       "      <th>bids1_size</th>\n",
       "      <th>bids2</th>\n",
       "      <th>bids2_size</th>\n",
       "      <th>bids3</th>\n",
       "      <th>bids3_size</th>\n",
       "      <th>...</th>\n",
       "      <th>asks0</th>\n",
       "      <th>asks0_size</th>\n",
       "      <th>asks1</th>\n",
       "      <th>asks1_size</th>\n",
       "      <th>asks2</th>\n",
       "      <th>asks2_size</th>\n",
       "      <th>asks3</th>\n",
       "      <th>asks3_size</th>\n",
       "      <th>asks4</th>\n",
       "      <th>asks4_size</th>\n",
       "    </tr>\n",
       "  </thead>\n",
       "  <tbody>\n",
       "    <tr>\n",
       "      <th>0</th>\n",
       "      <td>20220213112615840000</td>\n",
       "      <td>BTC</td>\n",
       "      <td>4880008.0</td>\n",
       "      <td>0.001</td>\n",
       "      <td>4880006.0</td>\n",
       "      <td>0.02</td>\n",
       "      <td>4880005.0</td>\n",
       "      <td>0.0035</td>\n",
       "      <td>4880001.0</td>\n",
       "      <td>0.0002</td>\n",
       "      <td>...</td>\n",
       "      <td>4880009.0</td>\n",
       "      <td>0.330</td>\n",
       "      <td>4880020.0</td>\n",
       "      <td>0.0019</td>\n",
       "      <td>4880050.0</td>\n",
       "      <td>0.0206</td>\n",
       "      <td>4880070.0</td>\n",
       "      <td>0.0076</td>\n",
       "      <td>4880080.0</td>\n",
       "      <td>0.025</td>\n",
       "    </tr>\n",
       "    <tr>\n",
       "      <th>1</th>\n",
       "      <td>20220213112616851000</td>\n",
       "      <td>BTC</td>\n",
       "      <td>4880008.0</td>\n",
       "      <td>0.001</td>\n",
       "      <td>4880006.0</td>\n",
       "      <td>0.02</td>\n",
       "      <td>4880005.0</td>\n",
       "      <td>0.0035</td>\n",
       "      <td>4880001.0</td>\n",
       "      <td>0.0002</td>\n",
       "      <td>...</td>\n",
       "      <td>4880009.0</td>\n",
       "      <td>0.330</td>\n",
       "      <td>4880020.0</td>\n",
       "      <td>0.0019</td>\n",
       "      <td>4880050.0</td>\n",
       "      <td>0.0206</td>\n",
       "      <td>4880070.0</td>\n",
       "      <td>0.0076</td>\n",
       "      <td>4880080.0</td>\n",
       "      <td>0.025</td>\n",
       "    </tr>\n",
       "    <tr>\n",
       "      <th>2</th>\n",
       "      <td>20220213112617862000</td>\n",
       "      <td>BTC</td>\n",
       "      <td>4880008.0</td>\n",
       "      <td>0.001</td>\n",
       "      <td>4880006.0</td>\n",
       "      <td>0.02</td>\n",
       "      <td>4880005.0</td>\n",
       "      <td>0.0035</td>\n",
       "      <td>4880001.0</td>\n",
       "      <td>0.0002</td>\n",
       "      <td>...</td>\n",
       "      <td>4880009.0</td>\n",
       "      <td>1.057</td>\n",
       "      <td>4880020.0</td>\n",
       "      <td>0.0019</td>\n",
       "      <td>4880050.0</td>\n",
       "      <td>0.0206</td>\n",
       "      <td>4880070.0</td>\n",
       "      <td>0.0076</td>\n",
       "      <td>4880080.0</td>\n",
       "      <td>0.025</td>\n",
       "    </tr>\n",
       "    <tr>\n",
       "      <th>3</th>\n",
       "      <td>20220213112617881000</td>\n",
       "      <td>BTC</td>\n",
       "      <td>4880008.0</td>\n",
       "      <td>0.001</td>\n",
       "      <td>4880006.0</td>\n",
       "      <td>0.02</td>\n",
       "      <td>4880005.0</td>\n",
       "      <td>0.0035</td>\n",
       "      <td>4880001.0</td>\n",
       "      <td>0.0002</td>\n",
       "      <td>...</td>\n",
       "      <td>4880009.0</td>\n",
       "      <td>1.057</td>\n",
       "      <td>4880020.0</td>\n",
       "      <td>0.0019</td>\n",
       "      <td>4880050.0</td>\n",
       "      <td>0.0206</td>\n",
       "      <td>4880070.0</td>\n",
       "      <td>0.0076</td>\n",
       "      <td>4880080.0</td>\n",
       "      <td>0.025</td>\n",
       "    </tr>\n",
       "    <tr>\n",
       "      <th>4</th>\n",
       "      <td>20220213112618371000</td>\n",
       "      <td>BTC</td>\n",
       "      <td>4880008.0</td>\n",
       "      <td>0.001</td>\n",
       "      <td>4880006.0</td>\n",
       "      <td>0.02</td>\n",
       "      <td>4880005.0</td>\n",
       "      <td>0.0035</td>\n",
       "      <td>4880001.0</td>\n",
       "      <td>0.0002</td>\n",
       "      <td>...</td>\n",
       "      <td>4880009.0</td>\n",
       "      <td>1.057</td>\n",
       "      <td>4880020.0</td>\n",
       "      <td>0.0019</td>\n",
       "      <td>4880070.0</td>\n",
       "      <td>0.0076</td>\n",
       "      <td>4880080.0</td>\n",
       "      <td>0.0250</td>\n",
       "      <td>4880150.0</td>\n",
       "      <td>2.500</td>\n",
       "    </tr>\n",
       "    <tr>\n",
       "      <th>5</th>\n",
       "      <td>20220213112618877000</td>\n",
       "      <td>BTC</td>\n",
       "      <td>4880008.0</td>\n",
       "      <td>0.001</td>\n",
       "      <td>4880006.0</td>\n",
       "      <td>0.02</td>\n",
       "      <td>4880005.0</td>\n",
       "      <td>0.0035</td>\n",
       "      <td>4880001.0</td>\n",
       "      <td>0.0002</td>\n",
       "      <td>...</td>\n",
       "      <td>4880009.0</td>\n",
       "      <td>0.957</td>\n",
       "      <td>4880020.0</td>\n",
       "      <td>0.0019</td>\n",
       "      <td>4880070.0</td>\n",
       "      <td>0.0076</td>\n",
       "      <td>4880080.0</td>\n",
       "      <td>0.0250</td>\n",
       "      <td>4880150.0</td>\n",
       "      <td>2.500</td>\n",
       "    </tr>\n",
       "    <tr>\n",
       "      <th>6</th>\n",
       "      <td>20220213112619382000</td>\n",
       "      <td>BTC</td>\n",
       "      <td>4880008.0</td>\n",
       "      <td>0.001</td>\n",
       "      <td>4880006.0</td>\n",
       "      <td>0.02</td>\n",
       "      <td>4880005.0</td>\n",
       "      <td>0.0035</td>\n",
       "      <td>4880001.0</td>\n",
       "      <td>0.0002</td>\n",
       "      <td>...</td>\n",
       "      <td>4880009.0</td>\n",
       "      <td>0.957</td>\n",
       "      <td>4880020.0</td>\n",
       "      <td>0.0019</td>\n",
       "      <td>4880070.0</td>\n",
       "      <td>0.0076</td>\n",
       "      <td>4880080.0</td>\n",
       "      <td>0.0250</td>\n",
       "      <td>4880150.0</td>\n",
       "      <td>2.500</td>\n",
       "    </tr>\n",
       "    <tr>\n",
       "      <th>7</th>\n",
       "      <td>20220213112619888000</td>\n",
       "      <td>BTC</td>\n",
       "      <td>4880008.0</td>\n",
       "      <td>0.001</td>\n",
       "      <td>4880006.0</td>\n",
       "      <td>0.02</td>\n",
       "      <td>4880005.0</td>\n",
       "      <td>0.0035</td>\n",
       "      <td>4880001.0</td>\n",
       "      <td>0.0002</td>\n",
       "      <td>...</td>\n",
       "      <td>4880009.0</td>\n",
       "      <td>1.057</td>\n",
       "      <td>4880020.0</td>\n",
       "      <td>0.0019</td>\n",
       "      <td>4880070.0</td>\n",
       "      <td>0.0076</td>\n",
       "      <td>4880080.0</td>\n",
       "      <td>0.0250</td>\n",
       "      <td>4880150.0</td>\n",
       "      <td>2.500</td>\n",
       "    </tr>\n",
       "    <tr>\n",
       "      <th>8</th>\n",
       "      <td>20220213112620393000</td>\n",
       "      <td>BTC</td>\n",
       "      <td>4880008.0</td>\n",
       "      <td>0.001</td>\n",
       "      <td>4880006.0</td>\n",
       "      <td>0.02</td>\n",
       "      <td>4880005.0</td>\n",
       "      <td>0.0035</td>\n",
       "      <td>4880001.0</td>\n",
       "      <td>0.0002</td>\n",
       "      <td>...</td>\n",
       "      <td>4880009.0</td>\n",
       "      <td>0.230</td>\n",
       "      <td>4880020.0</td>\n",
       "      <td>0.0019</td>\n",
       "      <td>4880070.0</td>\n",
       "      <td>0.0076</td>\n",
       "      <td>4880080.0</td>\n",
       "      <td>0.0250</td>\n",
       "      <td>4880150.0</td>\n",
       "      <td>2.500</td>\n",
       "    </tr>\n",
       "  </tbody>\n",
       "</table>\n",
       "<p>9 rows × 22 columns</p>\n",
       "</div>"
      ],
      "text/plain": [
       "                   time symbol      bids0  bids0_size      bids1  bids1_size  \\\n",
       "0  20220213112615840000    BTC  4880008.0       0.001  4880006.0        0.02   \n",
       "1  20220213112616851000    BTC  4880008.0       0.001  4880006.0        0.02   \n",
       "2  20220213112617862000    BTC  4880008.0       0.001  4880006.0        0.02   \n",
       "3  20220213112617881000    BTC  4880008.0       0.001  4880006.0        0.02   \n",
       "4  20220213112618371000    BTC  4880008.0       0.001  4880006.0        0.02   \n",
       "5  20220213112618877000    BTC  4880008.0       0.001  4880006.0        0.02   \n",
       "6  20220213112619382000    BTC  4880008.0       0.001  4880006.0        0.02   \n",
       "7  20220213112619888000    BTC  4880008.0       0.001  4880006.0        0.02   \n",
       "8  20220213112620393000    BTC  4880008.0       0.001  4880006.0        0.02   \n",
       "\n",
       "       bids2  bids2_size      bids3  bids3_size  ...      asks0  asks0_size  \\\n",
       "0  4880005.0      0.0035  4880001.0      0.0002  ...  4880009.0       0.330   \n",
       "1  4880005.0      0.0035  4880001.0      0.0002  ...  4880009.0       0.330   \n",
       "2  4880005.0      0.0035  4880001.0      0.0002  ...  4880009.0       1.057   \n",
       "3  4880005.0      0.0035  4880001.0      0.0002  ...  4880009.0       1.057   \n",
       "4  4880005.0      0.0035  4880001.0      0.0002  ...  4880009.0       1.057   \n",
       "5  4880005.0      0.0035  4880001.0      0.0002  ...  4880009.0       0.957   \n",
       "6  4880005.0      0.0035  4880001.0      0.0002  ...  4880009.0       0.957   \n",
       "7  4880005.0      0.0035  4880001.0      0.0002  ...  4880009.0       1.057   \n",
       "8  4880005.0      0.0035  4880001.0      0.0002  ...  4880009.0       0.230   \n",
       "\n",
       "       asks1  asks1_size      asks2  asks2_size      asks3  asks3_size  \\\n",
       "0  4880020.0      0.0019  4880050.0      0.0206  4880070.0      0.0076   \n",
       "1  4880020.0      0.0019  4880050.0      0.0206  4880070.0      0.0076   \n",
       "2  4880020.0      0.0019  4880050.0      0.0206  4880070.0      0.0076   \n",
       "3  4880020.0      0.0019  4880050.0      0.0206  4880070.0      0.0076   \n",
       "4  4880020.0      0.0019  4880070.0      0.0076  4880080.0      0.0250   \n",
       "5  4880020.0      0.0019  4880070.0      0.0076  4880080.0      0.0250   \n",
       "6  4880020.0      0.0019  4880070.0      0.0076  4880080.0      0.0250   \n",
       "7  4880020.0      0.0019  4880070.0      0.0076  4880080.0      0.0250   \n",
       "8  4880020.0      0.0019  4880070.0      0.0076  4880080.0      0.0250   \n",
       "\n",
       "       asks4  asks4_size  \n",
       "0  4880080.0       0.025  \n",
       "1  4880080.0       0.025  \n",
       "2  4880080.0       0.025  \n",
       "3  4880080.0       0.025  \n",
       "4  4880150.0       2.500  \n",
       "5  4880150.0       2.500  \n",
       "6  4880150.0       2.500  \n",
       "7  4880150.0       2.500  \n",
       "8  4880150.0       2.500  \n",
       "\n",
       "[9 rows x 22 columns]"
      ]
     },
     "execution_count": 56,
     "metadata": {},
     "output_type": "execute_result"
    }
   ],
   "source": [
    "pd.DataFrame(json.loads(realtime_data)[\"orderbook\"])"
   ]
  },
  {
   "cell_type": "code",
   "execution_count": 58,
   "metadata": {},
   "outputs": [
    {
     "data": {
      "text/html": [
       "<div>\n",
       "<style scoped>\n",
       "    .dataframe tbody tr th:only-of-type {\n",
       "        vertical-align: middle;\n",
       "    }\n",
       "\n",
       "    .dataframe tbody tr th {\n",
       "        vertical-align: top;\n",
       "    }\n",
       "\n",
       "    .dataframe thead th {\n",
       "        text-align: right;\n",
       "    }\n",
       "</style>\n",
       "<table border=\"1\" class=\"dataframe\">\n",
       "  <thead>\n",
       "    <tr style=\"text-align: right;\">\n",
       "      <th></th>\n",
       "    </tr>\n",
       "  </thead>\n",
       "  <tbody>\n",
       "  </tbody>\n",
       "</table>\n",
       "</div>"
      ],
      "text/plain": [
       "Empty DataFrame\n",
       "Columns: []\n",
       "Index: []"
      ]
     },
     "execution_count": 58,
     "metadata": {},
     "output_type": "execute_result"
    }
   ],
   "source": [
    "pd.DataFrame(json.loads(realtime_data)[\"trade\"])"
   ]
  },
  {
   "cell_type": "code",
   "execution_count": 18,
   "metadata": {},
   "outputs": [
    {
     "data": {
      "text/plain": [
       "'misaka_rabbitmq'"
      ]
     },
     "execution_count": 18,
     "metadata": {},
     "output_type": "execute_result"
    }
   ],
   "source": [
    "om.dg.mq_rpc_client[\"realtime\"].mqserver_host"
   ]
  },
  {
   "cell_type": "code",
   "execution_count": null,
   "metadata": {},
   "outputs": [],
   "source": []
  },
  {
   "cell_type": "code",
   "execution_count": 60,
   "metadata": {},
   "outputs": [
    {
     "data": {
      "text/plain": [
       "<Run: data=<RunData: metrics={'test_acc': 0.6089201877934273,\n",
       " 'train_loss': 0.7199654926115008,\n",
       " 'valid_acc': 0.5555555555555556,\n",
       " 'valid_loss': 0.727906052271525}, params={'batch_size': '64',\n",
       " 'loss_fn': 'BCELogitLoss',\n",
       " 'n_epochs': '15',\n",
       " 'optimizer': 'adam'}, tags={'mlflow.runName': 'TRAIN_21121520411639568475_0_1_2_3_4_5_6_7_8_9_10_11',\n",
       " 'mlflow.source.name': 'ipynb',\n",
       " 'mlflow.user': 'Misaka00001'}>, info=<RunInfo: artifact_uri='/Users/macico/Dropbox/btc/mlruns/2/6f3cf06067a54db289b503f16a9086df/artifacts', end_time=1639568589192, experiment_id='2', lifecycle_stage='active', run_id='6f3cf06067a54db289b503f16a9086df', run_uuid='6f3cf06067a54db289b503f16a9086df', start_time=1639568576581, status='FINISHED', user_id='Misaka00001'>>"
      ]
     },
     "execution_count": 60,
     "metadata": {},
     "output_type": "execute_result"
    }
   ],
   "source": [
    "om.le.mlwriter.client.get_run(best_run[0].info.run_id)"
   ]
  },
  {
   "cell_type": "code",
   "execution_count": 61,
   "metadata": {},
   "outputs": [],
   "source": [
    "\n",
    "om.le.mlwriter.create_model_version(\"test002_test\",run_id=best_run[0].info.run_id)"
   ]
  },
  {
   "cell_type": "code",
   "execution_count": 45,
   "metadata": {},
   "outputs": [
    {
     "data": {
      "text/plain": [
       "'2'"
      ]
     },
     "execution_count": 45,
     "metadata": {},
     "output_type": "execute_result"
    }
   ],
   "source": [
    "om.le.mlwriter.client.get_experiment_by_name(\"test002\").experiment_id"
   ]
  },
  {
   "cell_type": "code",
   "execution_count": 46,
   "metadata": {},
   "outputs": [
    {
     "name": "stderr",
     "output_type": "stream",
     "text": [
      "/Users/macico/Dropbox/btc/aleister/src/mlflow_writer.py:41: DeprecationWarning:\n",
      "\n",
      "The 'warn' method is deprecated, use 'warning' instead\n",
      "\n"
     ]
    }
   ],
   "source": [
    "om.le.mlwriter.register_model(\"test002_test\")"
   ]
  },
  {
   "cell_type": "code",
   "execution_count": 48,
   "metadata": {},
   "outputs": [],
   "source": [
    "mv = om.le.mlwriter.create_model_version(\"test002_test\")"
   ]
  },
  {
   "cell_type": "code",
   "execution_count": 50,
   "metadata": {},
   "outputs": [
    {
     "ename": "AttributeError",
     "evalue": "'NoneType' object has no attribute 'info'",
     "output_type": "error",
     "traceback": [
      "\u001b[0;31m---------------------------------------------------------------------------\u001b[0m",
      "\u001b[0;31mAttributeError\u001b[0m                            Traceback (most recent call last)",
      "\u001b[0;32m/var/folders/wh/fbndz0bn4vv4gvq6jz0b3czc0000gn/T/ipykernel_12480/3476568589.py\u001b[0m in \u001b[0;36m<module>\u001b[0;34m\u001b[0m\n\u001b[0;32m----> 1\u001b[0;31m \u001b[0mmv\u001b[0m\u001b[0;34m.\u001b[0m\u001b[0minfo\u001b[0m\u001b[0;34m\u001b[0m\u001b[0;34m\u001b[0m\u001b[0m\n\u001b[0m",
      "\u001b[0;31mAttributeError\u001b[0m: 'NoneType' object has no attribute 'info'"
     ]
    }
   ],
   "source": [
    "mv.info"
   ]
  },
  {
   "cell_type": "code",
   "execution_count": 42,
   "metadata": {},
   "outputs": [
    {
     "data": {
      "text/plain": [
       "SimpleLSTM(\n",
       "  (lstm): LSTM(7, 32, num_layers=2, batch_first=True)\n",
       "  (fc): Linear(in_features=32, out_features=3, bias=True)\n",
       ")"
      ]
     },
     "execution_count": 42,
     "metadata": {},
     "output_type": "execute_result"
    }
   ],
   "source": [
    "import mlflow\n",
    "from mlflow.entities import ViewType\n",
    "#serch runs\n",
    "# query = \"params.model = 'CNN' and params.layers = '10' and metrics.`prediction accuracy` >= 0.945\"\n",
    "query = None\n",
    "run_info = om.le.mlwriter.client.search_runs(experiment_ids=[\"1\"], filter_string=query, run_view_type=ViewType.ACTIVE_ONLY)[0]\n",
    "uri =  os.path.join(run_info.info.artifact_uri, \"model\" ) \n",
    "mlflow.pytorch.load_model(uri)"
   ]
  },
  {
   "cell_type": "code",
   "execution_count": 43,
   "metadata": {},
   "outputs": [
    {
     "ename": "NameError",
     "evalue": "name 'le' is not defined",
     "output_type": "error",
     "traceback": [
      "\u001b[0;31m---------------------------------------------------------------------------\u001b[0m",
      "\u001b[0;31mNameError\u001b[0m                                 Traceback (most recent call last)",
      "\u001b[0;32m/var/folders/wh/fbndz0bn4vv4gvq6jz0b3czc0000gn/T/ipykernel_97820/3005516908.py\u001b[0m in \u001b[0;36m<module>\u001b[0;34m\u001b[0m\n\u001b[0;32m----> 1\u001b[0;31m \u001b[0mmodel_info\u001b[0m \u001b[0;34m=\u001b[0m \u001b[0mle\u001b[0m\u001b[0;34m.\u001b[0m\u001b[0mmlwriter\u001b[0m\u001b[0;34m.\u001b[0m\u001b[0mclient\u001b[0m\u001b[0;34m.\u001b[0m\u001b[0mget_latest_versions\u001b[0m\u001b[0;34m(\u001b[0m\u001b[0;34m\"test_model\"\u001b[0m\u001b[0;34m)\u001b[0m\u001b[0;34m[\u001b[0m\u001b[0;36m0\u001b[0m\u001b[0;34m]\u001b[0m\u001b[0;34m\u001b[0m\u001b[0;34m\u001b[0m\u001b[0m\n\u001b[0m\u001b[1;32m      2\u001b[0m \u001b[0mmlflow\u001b[0m\u001b[0;34m.\u001b[0m\u001b[0mpytorch\u001b[0m\u001b[0;34m.\u001b[0m\u001b[0mload_model\u001b[0m\u001b[0;34m(\u001b[0m\u001b[0mmodel_info\u001b[0m\u001b[0;34m.\u001b[0m\u001b[0msource\u001b[0m\u001b[0;34m)\u001b[0m\u001b[0;34m\u001b[0m\u001b[0;34m\u001b[0m\u001b[0m\n",
      "\u001b[0;31mNameError\u001b[0m: name 'le' is not defined"
     ]
    }
   ],
   "source": [
    "model_info = le.mlwriter.client.get_latest_versions(\"test_model\")[0]\n",
    "mlflow.pytorch.load_model(model_info.source)"
   ]
  },
  {
   "cell_type": "code",
   "execution_count": null,
   "metadata": {},
   "outputs": [],
   "source": [
    "for  i in le.ys:\n",
    "    print(i)"
   ]
  },
  {
   "cell_type": "code",
   "execution_count": null,
   "metadata": {},
   "outputs": [],
   "source": [
    "import joblib\n",
    "load_path=\"/Users/macico/Dropbox/btc_data/model/test001/X_test.jbl\"\n",
    "with open(load_path, mode=\"rb\") as f:\n",
    "    data = joblib.load(f)\n",
    "data"
   ]
  },
  {
   "cell_type": "code",
   "execution_count": null,
   "metadata": {},
   "outputs": [],
   "source": []
  }
 ],
 "metadata": {
  "interpreter": {
   "hash": "b45f9670391769e061d21fde4a80e23c28183b0e668940abb0d6257953f3010d"
  },
  "kernelspec": {
   "display_name": "Python 3 (ipykernel)",
   "language": "python",
   "name": "python3"
  },
  "language_info": {
   "codemirror_mode": {
    "name": "ipython",
    "version": 3
   },
   "file_extension": ".py",
   "mimetype": "text/x-python",
   "name": "python",
   "nbconvert_exporter": "python",
   "pygments_lexer": "ipython3",
   "version": "3.7.6"
  }
 },
 "nbformat": 4,
 "nbformat_minor": 4
}
