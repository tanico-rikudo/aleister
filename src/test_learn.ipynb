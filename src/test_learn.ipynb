{
 "cells": [
  {
   "cell_type": "code",
   "execution_count": null,
   "metadata": {},
   "outputs": [],
   "source": [
    "%load_ext autoreload\n",
    "\n",
    "%autoreload 2\n"
   ]
  },
  {
   "cell_type": "code",
   "execution_count": null,
   "metadata": {},
   "outputs": [],
   "source": [
    "import os,sys\n",
    "os.environ['BASE_DIR'] =  '/Users/macico/Dropbox/btc'\n",
    "os.environ['KULOKO_DIR'] = os.path.join(os.environ['BASE_DIR'], \"kuloko\")\n",
    "os.environ['ALEISTER_DIR'] = os.path.join(os.environ['BASE_DIR'], \"aleister\")\n",
    "os.environ['COMMON_DIR'] = os.path.join(os.environ['BASE_DIR'], \"geco_commons\")\n",
    "os.environ['KULOKO_INI'] = os.path.join(os.environ['COMMON_DIR'], \"ini\")\n",
    "os.environ['ALEISTER_INI'] = os.path.join(os.environ['COMMON_DIR'], \"ini\")\n",
    "os.environ['MONGO_DIR'] = os.path.join(os.environ['COMMON_DIR'] ,\"mongodb\")\n",
    "os.environ['LOGDIR'] = os.path.join(os.environ['KULOKO_DIR'], \"log\")\n",
    "# os.environ['MLFLOW_TRACKING_URI'] = os.path.join(os.environ['BASE_DIR'], \"mlruns\")\n",
    "# OS.environ['MLFLOW_ARTIFACTS_URI'] = os.path.join(os.environ['BASE_DIR'], \"mlruns\")\n",
    "os.environ['MLFLOW_TRACKING_URI'] = 'http://localhost:5000'\n",
    "os.environ['MLFLOW_ARTIFACTS_URI'] = os.path.join(os.environ['BASE_DIR'], \"mlruns\")\n",
    "os.environ['DEFAULT_LOCAL_FILE_AND_ARTIFACT_PATH'] = os.path.join(os.environ['BASE_DIR'], \"mlruns\")\n",
    "sys.path.append(os.path.join(os.environ['KULOKO_DIR'],\"items\" ))\n"
   ]
  },
  {
   "cell_type": "code",
   "execution_count": null,
   "metadata": {},
   "outputs": [],
   "source": [
    "\n",
    "\n",
    "import master\n",
    "from master import *\n",
    "from datetime import datetime as dt"
   ]
  },
  {
   "cell_type": "code",
   "execution_count": null,
   "metadata": {},
   "outputs": [],
   "source": [
    "# args=['--execute_mode',\"prepro\",'--config_source','ini','--model_id','test001',\n",
    "#       '-train_sd','20210101','-train_ed','20210103',\n",
    "#       '-valid_sd','20210104','-train_ed','20210105',\n",
    "#       '-test_sd','20210106','-test_ed','20210107']\n",
    "args=['--symbol','BTC', '--execute_mode',\"train\",\n",
    "      '--model_id','test001','--model_name','sdnn',\n",
    "      '--config_source','ini','--config_mode','dev',\n",
    "      '--user',\"Misaka00001\", '--source','ipynb',\n",
    "      '-train_sd','20210101','-train_ed','20210103',\n",
    "      '-valid_sd','20210104','-valid_ed','20210105',\n",
    "      '-test_sd','20210106','-test_ed','20210107']"
   ]
  },
  {
   "cell_type": "code",
   "execution_count": null,
   "metadata": {},
   "outputs": [],
   "source": [
    "parser = make_parser()\n",
    "arg_dict = vars(parser.parse_args(args))\n",
    "\n",
    "#meta\n",
    "_id = arg_dict[\"model_id\"]\n",
    "config_mode = arg_dict[\"config_mode\"].upper()\n",
    "model_name = arg_dict[\"model_name\"].upper()\n",
    "\n",
    "# period\n",
    "train_start = arg_dict[\"train_start_date\"] if \"train_start_date\" in arg_dict.keys() else None\n",
    "train_end = arg_dict[\"train_end_date\"] if \"train_end_date\" in arg_dict.keys() else None\n",
    "valid_start = arg_dict[\"valid_start_date\"] if \"valid_start_date\" in arg_dict.keys() else None\n",
    "valid_end = arg_dict[\"valid_end_date\"]if \"valid_end_date\" in arg_dict.keys() else None\n",
    "test_start = arg_dict[\"test_start_date\"] if \"test_start_date\" in arg_dict.keys() else None\n",
    "test_end = arg_dict[\"test_end_date\"] if \"test_end_date\" in arg_dict.keys() else None\n",
    "\n",
    "# sym\n",
    "sym = arg_dict[\"symbol\"] \n",
    "\n",
    "# load all parent modules\n",
    "fp = featurePreprocess(_id)\n",
    "fp.load_general_config(source=\"ini\", path=None,mode=config_mode)\n",
    "fp.load_model_config(source=\"ini\", path=None,model_name=model_name)\n",
    "\n",
    "    \n",
    "if arg_dict[\"execute_mode\"] == \"prepro\":\n",
    "    preprocessing(fp, sym, train_start, train_end, valid_start, valid_end, test_start, test_end)\n",
    "elif arg_dict[\"execute_mode\"] == \"train\":\n",
    "    mlflow_tags = {\n",
    "        \"user\":arg_dict[\"user\"],\n",
    "        \"source\":arg_dict[\"source\"],\n",
    "        \"run_name\": f\"TRAIN_{dt.now().strftime('%y%m%d%H%M%s')}\"\n",
    "    }\n",
    "    le = LearningEvaluator(_id, mlflow_tags)\n",
    "    le.get_device()\n",
    "    le.load_general_config(source=\"ini\", path=None,mode=config_mode)\n",
    "    le.load_model_config(source=\"ini\", path=None, model_name=model_name)\n",
    "    le.load_model_hparameters(model_name)\n",
    "    train(fp, le)\n",
    "elif arg_dict[\"execute_mode\"] == \"valid\":\n",
    "    mlflow_tags = {\n",
    "        \"user\":arg_dict[\"user\"],\n",
    "        \"source\":arg_dict[\"source\"],\n",
    "        \"run_name\": f\"VALID_{dt.now().strftime('%y%m%d%H%M%s')}\"\n",
    "    }\n",
    "    le = LearningEvaluator(_id, mlflow_tags)\n",
    "    le.get_device()\n",
    "    le.load_general_config(source=\"ini\", path=None,mode=config_mode)\n",
    "    le.load_model_config(source=\"ini\", path=None, model_name=model_name)\n",
    "    le.load_model_hparameters(model_name)\n",
    "    valid(fp, le)\n",
    "else:\n",
    "    pass"
   ]
  },
  {
   "cell_type": "code",
   "execution_count": null,
   "metadata": {},
   "outputs": [],
   "source": [
    "from mlflow.entities import ViewType\n",
    "#serch runs\n",
    "# query = \"params.model = 'CNN' and params.layers = '10' and metrics.`prediction accuracy` >= 0.945\"\n",
    "query = None\n",
    "run_info = le.mlwriter.client.search_runs(experiment_ids=[\"1\"], filter_string=query, run_view_type=ViewType.ACTIVE_ONLY)[0]\n",
    "uri =  os.path.join(run_info.info.artifact_uri, \"model\" ) \n",
    "mlflow.pytorch.load_model(uri)"
   ]
  },
  {
   "cell_type": "code",
   "execution_count": null,
   "metadata": {},
   "outputs": [],
   "source": [
    "model_info = le.mlwriter.client.get_latest_versions(\"test_model\")[0]\n",
    "mlflow.pytorch.load_model(model_info.source)"
   ]
  },
  {
   "cell_type": "code",
   "execution_count": null,
   "metadata": {},
   "outputs": [],
   "source": [
    "model_info.source"
   ]
  },
  {
   "cell_type": "code",
   "execution_count": null,
   "metadata": {},
   "outputs": [],
   "source": [
    "model_uri"
   ]
  },
  {
   "cell_type": "code",
   "execution_count": null,
   "metadata": {},
   "outputs": [],
   "source": []
  }
 ],
 "metadata": {
  "interpreter": {
   "hash": "b45f9670391769e061d21fde4a80e23c28183b0e668940abb0d6257953f3010d"
  },
  "kernelspec": {
   "display_name": "Python 3.7.6 64-bit ('py37b': pyenv)",
   "name": "python3"
  },
  "language_info": {
   "codemirror_mode": {
    "name": "ipython",
    "version": 3
   },
   "file_extension": ".py",
   "mimetype": "text/x-python",
   "name": "python",
   "nbconvert_exporter": "python",
   "pygments_lexer": "ipython3",
   "version": "3.7.6"
  },
  "orig_nbformat": 4
 },
 "nbformat": 4,
 "nbformat_minor": 2
}
