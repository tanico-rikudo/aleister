{
 "cells": [
  {
   "cell_type": "code",
   "execution_count": 1,
   "metadata": {},
   "outputs": [],
   "source": [
    "%load_ext autoreload\n",
    "%autoreload 2\n",
    "\n",
    "import os,sys\n",
    "os.environ['BASE_DIR'] =  '/Users/macico/Dropbox/btc'\n",
    "os.environ['COMMON_DIR'] = os.path.join(os.environ['BASE_DIR'], \"geco_commons\")\n",
    "sys.path.append(os.path.join(os.environ['COMMON_DIR'],\"util\" ))\n",
    "from setting import *"
   ]
  },
  {
   "cell_type": "code",
   "execution_count": 3,
   "metadata": {},
   "outputs": [],
   "source": [
    "\n",
    "\n",
    "import master\n",
    "from master import *\n",
    "from datetime import datetime as dt"
   ]
  },
  {
   "cell_type": "code",
   "execution_count": 4,
   "metadata": {},
   "outputs": [],
   "source": [
    "# args=['--execute_mode',\"prepro\",'--config_source','ini','--model_id','test001',\n",
    "#       '-train_sd','20210101','-train_ed','20210103',\n",
    "#       '-valid_sd','20210104','-train_ed','20210105',\n",
    "#       '-test_sd','20210106','-test_ed','20210107']\n",
    "args=['--symbol','BTC', '--execute_mode',\"gtrain\",\n",
    "      '--model_id','test002','--model_name','slstm',\n",
    "      '--config_source','ini','--config_mode','dev',\n",
    "      '--user',\"Misaka00001\", '--source','ipynb',\n",
    "      '-train_sd','20210101','-train_ed','20210103',\n",
    "      '-valid_sd','20210104','-valid_ed','20210105',\n",
    "      '-test_sd','20210106','-test_ed','20210107']"
   ]
  },
  {
   "cell_type": "code",
   "execution_count": 14,
   "metadata": {},
   "outputs": [],
   "source": [
    "parser = make_parser()\n",
    "arg_dict = vars(parser.parse_args(args))\n",
    "\n",
    "#meta\n",
    "_id = arg_dict[\"model_id\"]\n",
    "config_mode = arg_dict[\"config_mode\"].upper()\n",
    "model_name = arg_dict[\"model_name\"].upper()\n",
    "\n",
    "# period\n",
    "train_start = arg_dict[\"train_start_date\"] if \"train_start_date\" in arg_dict.keys() else None\n",
    "train_end = arg_dict[\"train_end_date\"] if \"train_end_date\" in arg_dict.keys() else None\n",
    "valid_start = arg_dict[\"valid_start_date\"] if \"valid_start_date\" in arg_dict.keys() else None\n",
    "valid_end = arg_dict[\"valid_end_date\"]if \"valid_end_date\" in arg_dict.keys() else None\n",
    "test_start = arg_dict[\"test_start_date\"] if \"test_start_date\" in arg_dict.keys() else None\n",
    "test_end = arg_dict[\"test_end_date\"] if \"test_end_date\" in arg_dict.keys() else None\n",
    "\n",
    "# sym\n",
    "sym = arg_dict[\"symbol\"] \n",
    "\n",
    "#mlflow\n",
    "mlflow_tags = {\n",
    "    MLFLOW_USER:arg_dict[\"user\"],\n",
    "    MLFLOW_SOURCE_NAME:arg_dict[\"source\"],\n",
    "    MLFLOW_RUN_NAME: f\"TRAIN_{dt.now().strftime('%y%m%d%H%M%s')}\"\n",
    "}\n",
    "\n",
    "# load meta info\n",
    "om = OperateMaster()\n",
    "om.load_meta(_id, model_name,  config_mode )\n",
    "om.set_mlflow_tags(mlflow_tags)\n",
    "\n",
    "# load conofigs into each module\n",
    "om.init_prepro()\n",
    "om.init_learning()\n",
    "\n",
    "if arg_dict[\"execute_mode\"] == \"prepro\":\n",
    "    om.init_dataGen()\n",
    "    om.preprocessing(sym, train_start, train_end, valid_start, valid_end, test_start, test_end)\n",
    "elif arg_dict[\"execute_mode\"] == \"train\":\n",
    "    om.train()\n",
    "elif arg_dict[\"execute_mode\"] == \"gtrain\":\n",
    "    om.gtrain()\n",
    "elif arg_dict[\"execute_mode\"] == \"rpredict\":\n",
    "    om.init_dataGen(remote=True)\n",
    "    om.predict()\n",
    "\n",
    "else:\n",
    "    pass"
   ]
  },
  {
   "cell_type": "code",
   "execution_count": 58,
   "metadata": {},
   "outputs": [
    {
     "data": {
      "text/plain": [
       "<ModelVersion: creation_timestamp=1639566838516, current_stage='None', description='', last_updated_timestamp=1639566838516, name='test002_test', run_id='92a358b8066943c8bb646739a5e313ae', run_link='', source='/Users/macico/Dropbox/btc/mlruns/2/92a358b8066943c8bb646739a5e313ae/artifacts/model', status='READY', status_message='', tags={}, user_id='', version='1'>"
      ]
     },
     "execution_count": 58,
     "metadata": {},
     "output_type": "execute_result"
    }
   ],
   "source": [
    "\n",
    "\n",
    "\n",
    "\n"
   ]
  },
  {
   "cell_type": "code",
   "execution_count": 60,
   "metadata": {},
   "outputs": [
    {
     "data": {
      "text/plain": [
       "<Run: data=<RunData: metrics={'test_acc': 0.6089201877934273,\n",
       " 'train_loss': 0.7199654926115008,\n",
       " 'valid_acc': 0.5555555555555556,\n",
       " 'valid_loss': 0.727906052271525}, params={'batch_size': '64',\n",
       " 'loss_fn': 'BCELogitLoss',\n",
       " 'n_epochs': '15',\n",
       " 'optimizer': 'adam'}, tags={'mlflow.runName': 'TRAIN_21121520411639568475_0_1_2_3_4_5_6_7_8_9_10_11',\n",
       " 'mlflow.source.name': 'ipynb',\n",
       " 'mlflow.user': 'Misaka00001'}>, info=<RunInfo: artifact_uri='/Users/macico/Dropbox/btc/mlruns/2/6f3cf06067a54db289b503f16a9086df/artifacts', end_time=1639568589192, experiment_id='2', lifecycle_stage='active', run_id='6f3cf06067a54db289b503f16a9086df', run_uuid='6f3cf06067a54db289b503f16a9086df', start_time=1639568576581, status='FINISHED', user_id='Misaka00001'>>"
      ]
     },
     "execution_count": 60,
     "metadata": {},
     "output_type": "execute_result"
    }
   ],
   "source": [
    "om.le.mlwriter.client.get_run(best_run[0].info.run_id)"
   ]
  },
  {
   "cell_type": "code",
   "execution_count": 61,
   "metadata": {},
   "outputs": [],
   "source": [
    "\n",
    "om.le.mlwriter.create_model_version(\"test002_test\",run_id=best_run[0].info.run_id)"
   ]
  },
  {
   "cell_type": "code",
   "execution_count": 45,
   "metadata": {},
   "outputs": [
    {
     "data": {
      "text/plain": [
       "'2'"
      ]
     },
     "execution_count": 45,
     "metadata": {},
     "output_type": "execute_result"
    }
   ],
   "source": [
    "om.le.mlwriter.client.get_experiment_by_name(\"test002\").experiment_id"
   ]
  },
  {
   "cell_type": "code",
   "execution_count": 46,
   "metadata": {},
   "outputs": [
    {
     "name": "stderr",
     "output_type": "stream",
     "text": [
      "/Users/macico/Dropbox/btc/aleister/src/mlflow_writer.py:41: DeprecationWarning:\n",
      "\n",
      "The 'warn' method is deprecated, use 'warning' instead\n",
      "\n"
     ]
    }
   ],
   "source": [
    "om.le.mlwriter.register_model(\"test002_test\")"
   ]
  },
  {
   "cell_type": "code",
   "execution_count": 48,
   "metadata": {},
   "outputs": [],
   "source": [
    "mv = om.le.mlwriter.create_model_version(\"test002_test\")"
   ]
  },
  {
   "cell_type": "code",
   "execution_count": 50,
   "metadata": {},
   "outputs": [
    {
     "ename": "AttributeError",
     "evalue": "'NoneType' object has no attribute 'info'",
     "output_type": "error",
     "traceback": [
      "\u001b[0;31m---------------------------------------------------------------------------\u001b[0m",
      "\u001b[0;31mAttributeError\u001b[0m                            Traceback (most recent call last)",
      "\u001b[0;32m/var/folders/wh/fbndz0bn4vv4gvq6jz0b3czc0000gn/T/ipykernel_12480/3476568589.py\u001b[0m in \u001b[0;36m<module>\u001b[0;34m\u001b[0m\n\u001b[0;32m----> 1\u001b[0;31m \u001b[0mmv\u001b[0m\u001b[0;34m.\u001b[0m\u001b[0minfo\u001b[0m\u001b[0;34m\u001b[0m\u001b[0;34m\u001b[0m\u001b[0m\n\u001b[0m",
      "\u001b[0;31mAttributeError\u001b[0m: 'NoneType' object has no attribute 'info'"
     ]
    }
   ],
   "source": [
    "mv.info"
   ]
  },
  {
   "cell_type": "code",
   "execution_count": 42,
   "metadata": {},
   "outputs": [
    {
     "data": {
      "text/plain": [
       "SimpleLSTM(\n",
       "  (lstm): LSTM(7, 32, num_layers=2, batch_first=True)\n",
       "  (fc): Linear(in_features=32, out_features=3, bias=True)\n",
       ")"
      ]
     },
     "execution_count": 42,
     "metadata": {},
     "output_type": "execute_result"
    }
   ],
   "source": [
    "import mlflow\n",
    "from mlflow.entities import ViewType\n",
    "#serch runs\n",
    "# query = \"params.model = 'CNN' and params.layers = '10' and metrics.`prediction accuracy` >= 0.945\"\n",
    "query = None\n",
    "run_info = om.le.mlwriter.client.search_runs(experiment_ids=[\"1\"], filter_string=query, run_view_type=ViewType.ACTIVE_ONLY)[0]\n",
    "uri =  os.path.join(run_info.info.artifact_uri, \"model\" ) \n",
    "mlflow.pytorch.load_model(uri)"
   ]
  },
  {
   "cell_type": "code",
   "execution_count": 43,
   "metadata": {},
   "outputs": [
    {
     "ename": "NameError",
     "evalue": "name 'le' is not defined",
     "output_type": "error",
     "traceback": [
      "\u001b[0;31m---------------------------------------------------------------------------\u001b[0m",
      "\u001b[0;31mNameError\u001b[0m                                 Traceback (most recent call last)",
      "\u001b[0;32m/var/folders/wh/fbndz0bn4vv4gvq6jz0b3czc0000gn/T/ipykernel_97820/3005516908.py\u001b[0m in \u001b[0;36m<module>\u001b[0;34m\u001b[0m\n\u001b[0;32m----> 1\u001b[0;31m \u001b[0mmodel_info\u001b[0m \u001b[0;34m=\u001b[0m \u001b[0mle\u001b[0m\u001b[0;34m.\u001b[0m\u001b[0mmlwriter\u001b[0m\u001b[0;34m.\u001b[0m\u001b[0mclient\u001b[0m\u001b[0;34m.\u001b[0m\u001b[0mget_latest_versions\u001b[0m\u001b[0;34m(\u001b[0m\u001b[0;34m\"test_model\"\u001b[0m\u001b[0;34m)\u001b[0m\u001b[0;34m[\u001b[0m\u001b[0;36m0\u001b[0m\u001b[0;34m]\u001b[0m\u001b[0;34m\u001b[0m\u001b[0;34m\u001b[0m\u001b[0m\n\u001b[0m\u001b[1;32m      2\u001b[0m \u001b[0mmlflow\u001b[0m\u001b[0;34m.\u001b[0m\u001b[0mpytorch\u001b[0m\u001b[0;34m.\u001b[0m\u001b[0mload_model\u001b[0m\u001b[0;34m(\u001b[0m\u001b[0mmodel_info\u001b[0m\u001b[0;34m.\u001b[0m\u001b[0msource\u001b[0m\u001b[0;34m)\u001b[0m\u001b[0;34m\u001b[0m\u001b[0;34m\u001b[0m\u001b[0m\n",
      "\u001b[0;31mNameError\u001b[0m: name 'le' is not defined"
     ]
    }
   ],
   "source": [
    "model_info = le.mlwriter.client.get_latest_versions(\"test_model\")[0]\n",
    "mlflow.pytorch.load_model(model_info.source)"
   ]
  },
  {
   "cell_type": "code",
   "execution_count": null,
   "metadata": {},
   "outputs": [],
   "source": [
    "for  i in le.ys:\n",
    "    print(i)"
   ]
  },
  {
   "cell_type": "code",
   "execution_count": null,
   "metadata": {},
   "outputs": [],
   "source": [
    "import joblib\n",
    "load_path=\"/Users/macico/Dropbox/btc_data/model/test001/X_test.jbl\"\n",
    "with open(load_path, mode=\"rb\") as f:\n",
    "    data = joblib.load(f)\n",
    "data"
   ]
  },
  {
   "cell_type": "code",
   "execution_count": null,
   "metadata": {},
   "outputs": [],
   "source": []
  }
 ],
 "metadata": {
  "interpreter": {
   "hash": "b45f9670391769e061d21fde4a80e23c28183b0e668940abb0d6257953f3010d"
  },
  "kernelspec": {
   "display_name": "Python 3.7.6 64-bit ('py37b': pyenv)",
   "name": "python3"
  },
  "language_info": {
   "codemirror_mode": {
    "name": "ipython",
    "version": 3
   },
   "file_extension": ".py",
   "mimetype": "text/x-python",
   "name": "python",
   "nbconvert_exporter": "python",
   "pygments_lexer": "ipython3",
   "version": "3.7.6"
  },
  "orig_nbformat": 4
 },
 "nbformat": 4,
 "nbformat_minor": 2
}
