{
 "cells": [
  {
   "cell_type": "code",
   "execution_count": null,
   "metadata": {},
   "outputs": [],
   "source": []
  },
  {
   "cell_type": "code",
   "execution_count": 1,
   "metadata": {},
   "outputs": [],
   "source": [
    "%load_ext autoreload\n",
    "%autoreload 2\n"
   ]
  },
  {
   "cell_type": "code",
   "execution_count": 2,
   "metadata": {},
   "outputs": [],
   "source": [
    "import os,sys\n",
    "os.environ['BASE_DIR'] =  '/Users/macico/Dropbox/btc'\n",
    "os.environ['KULOKO_DIR'] = os.path.join(os.environ['BASE_DIR'], \"kuloko\")\n",
    "os.environ['ALEISTER_DIR'] = os.path.join(os.environ['BASE_DIR'], \"aleister\")\n",
    "os.environ['COMMON_DIR'] = os.path.join(os.environ['BASE_DIR'], \"geco_commons\")\n",
    "os.environ['KULOKO_INI'] = os.path.join(os.environ['COMMON_DIR'], \"ini\")\n",
    "os.environ['ALEISTER_INI'] = os.path.join(os.environ['COMMON_DIR'], \"ini\")\n",
    "os.environ['MONGO_DIR'] = os.path.join(os.environ['COMMON_DIR'] ,\"mongodb\")\n",
    "os.environ['LOGDIR'] = os.path.join(os.environ['KULOKO_DIR'], \"log\")\n",
    "# os.environ['MLFLOW_TRACKING_URI'] = os.path.join(os.environ['BASE_DIR'], \"mlruns\")\n",
    "# OS.environ['MLFLOW_ARTIFACTS_URI'] = os.path.join(os.environ['BASE_DIR'], \"mlruns\")\n",
    "os.environ['MLFLOW_TRACKING_URI'] = 'http://localhost:5000'\n",
    "os.environ['MLFLOW_ARTIFACTS_URI'] = os.path.join(os.environ['BASE_DIR'], \"mlruns\")\n",
    "os.environ['DEFAULT_LOCAL_FILE_AND_ARTIFACT_PATH'] = os.path.join(os.environ['BASE_DIR'], \"mlruns\")\n",
    "sys.path.append(os.path.join(os.environ['KULOKO_DIR'],\"items\" ))\n"
   ]
  },
  {
   "cell_type": "code",
   "execution_count": 3,
   "metadata": {},
   "outputs": [
    {
     "name": "stderr",
     "output_type": "stream",
     "text": [
      "/Users/macico/.pyenv/versions/3.7.6/envs/py37/lib/python3.7/site-packages/mlflow/types/schema.py:49: DeprecationWarning: `np.object` is a deprecated alias for the builtin `object`. To silence this warning, use `object` by itself. Doing this will not modify any behavior and is safe. \n",
      "Deprecated in NumPy 1.20; for more details and guidance: https://numpy.org/devdocs/release/1.20.0-notes.html#deprecations\n",
      "  binary = (7, np.dtype(\"bytes\"), \"BinaryType\", np.object)\n"
     ]
    }
   ],
   "source": [
    "\n",
    "\n",
    "import master\n",
    "from master import *\n",
    "from datetime import datetime as dt"
   ]
  },
  {
   "cell_type": "code",
   "execution_count": 13,
   "metadata": {},
   "outputs": [],
   "source": [
    "# args=['--execute_mode',\"prepro\",'--config_source','ini','--model_id','test001',\n",
    "#       '-train_sd','20210101','-train_ed','20210103',\n",
    "#       '-valid_sd','20210104','-train_ed','20210105',\n",
    "#       '-test_sd','20210106','-test_ed','20210107']\n",
    "args=['--symbol','BTC', '--execute_mode',\"prepro\",\n",
    "      '--model_id','test002','--model_name','slstm',\n",
    "      '--config_source','ini','--config_mode','dev',\n",
    "      '--user',\"Misaka00001\", '--source','ipynb',\n",
    "      '-train_sd','20210101','-train_ed','20210103',\n",
    "      '-valid_sd','20210104','-valid_ed','20210105',\n",
    "      '-test_sd','20210106','-test_ed','20210107']"
   ]
  },
  {
   "cell_type": "code",
   "execution_count": 14,
   "metadata": {},
   "outputs": [
    {
     "name": "stderr",
     "output_type": "stream",
     "text": [
      "Fail to get hist data. path/Users/macico/Dropbox/btc_data/orderbooks/BTC/2021/01/20210101_BTC.csv.gz\n",
      "[Fialure] Readed data. Path=/Users/macico/Dropbox/btc_data/orderbooks/BTC/2021/01/20210101_BTC.csv.gz:[Errno 2] No such file or directory: '/Users/macico/Dropbox/btc_data/orderbooks/BTC/2021/01/20210101_BTC.csv.gz' \n",
      "Fail to get hist data. path/Users/macico/Dropbox/btc_data/orderbooks/BTC/2021/01/20210102_BTC.csv.gz\n",
      "[Fialure] Readed data. Path=/Users/macico/Dropbox/btc_data/orderbooks/BTC/2021/01/20210102_BTC.csv.gz:[Errno 2] No such file or directory: '/Users/macico/Dropbox/btc_data/orderbooks/BTC/2021/01/20210102_BTC.csv.gz' \n",
      "Fail to get hist data. path/Users/macico/Dropbox/btc_data/orderbooks/BTC/2021/01/20210103_BTC.csv.gz\n",
      "[Fialure] Readed data. Path=/Users/macico/Dropbox/btc_data/orderbooks/BTC/2021/01/20210103_BTC.csv.gz:[Errno 2] No such file or directory: '/Users/macico/Dropbox/btc_data/orderbooks/BTC/2021/01/20210103_BTC.csv.gz' \n",
      "Fail to get hist data. path/Users/macico/Dropbox/btc_data/orderbooks/BTC/2021/01/20210104_BTC.csv.gz\n",
      "[Fialure] Readed data. Path=/Users/macico/Dropbox/btc_data/orderbooks/BTC/2021/01/20210104_BTC.csv.gz:[Errno 2] No such file or directory: '/Users/macico/Dropbox/btc_data/orderbooks/BTC/2021/01/20210104_BTC.csv.gz' \n",
      "Fail to get hist data. path/Users/macico/Dropbox/btc_data/orderbooks/BTC/2021/01/20210105_BTC.csv.gz\n",
      "[Fialure] Readed data. Path=/Users/macico/Dropbox/btc_data/orderbooks/BTC/2021/01/20210105_BTC.csv.gz:[Errno 2] No such file or directory: '/Users/macico/Dropbox/btc_data/orderbooks/BTC/2021/01/20210105_BTC.csv.gz' \n",
      "Fail to get hist data. path/Users/macico/Dropbox/btc_data/orderbooks/BTC/2021/01/20210106_BTC.csv.gz\n",
      "[Fialure] Readed data. Path=/Users/macico/Dropbox/btc_data/orderbooks/BTC/2021/01/20210106_BTC.csv.gz:[Errno 2] No such file or directory: '/Users/macico/Dropbox/btc_data/orderbooks/BTC/2021/01/20210106_BTC.csv.gz' \n",
      "Fail to get hist data. path/Users/macico/Dropbox/btc_data/orderbooks/BTC/2021/01/20210107_BTC.csv.gz\n",
      "[Fialure] Readed data. Path=/Users/macico/Dropbox/btc_data/orderbooks/BTC/2021/01/20210107_BTC.csv.gz:[Errno 2] No such file or directory: '/Users/macico/Dropbox/btc_data/orderbooks/BTC/2021/01/20210107_BTC.csv.gz' \n"
     ]
    },
    {
     "ename": "TypeError",
     "evalue": "get_Xy() missing 1 required positional argument: 'orderbooks'",
     "output_type": "error",
     "traceback": [
      "\u001b[0;31m---------------------------------------------------------------------------\u001b[0m",
      "\u001b[0;31mTypeError\u001b[0m                                 Traceback (most recent call last)",
      "\u001b[0;32m/var/folders/wh/fbndz0bn4vv4gvq6jz0b3czc0000gn/T/ipykernel_97820/2410562832.py\u001b[0m in \u001b[0;36m<module>\u001b[0;34m\u001b[0m\n\u001b[1;32m     35\u001b[0m \u001b[0;32mif\u001b[0m \u001b[0marg_dict\u001b[0m\u001b[0;34m[\u001b[0m\u001b[0;34m\"execute_mode\"\u001b[0m\u001b[0;34m]\u001b[0m \u001b[0;34m==\u001b[0m \u001b[0;34m\"prepro\"\u001b[0m\u001b[0;34m:\u001b[0m\u001b[0;34m\u001b[0m\u001b[0;34m\u001b[0m\u001b[0m\n\u001b[1;32m     36\u001b[0m     \u001b[0mom\u001b[0m\u001b[0;34m.\u001b[0m\u001b[0minit_dataGen\u001b[0m\u001b[0;34m(\u001b[0m\u001b[0;34m)\u001b[0m\u001b[0;34m\u001b[0m\u001b[0;34m\u001b[0m\u001b[0m\n\u001b[0;32m---> 37\u001b[0;31m     \u001b[0mom\u001b[0m\u001b[0;34m.\u001b[0m\u001b[0mpreprocessing\u001b[0m\u001b[0;34m(\u001b[0m\u001b[0msym\u001b[0m\u001b[0;34m,\u001b[0m \u001b[0mtrain_start\u001b[0m\u001b[0;34m,\u001b[0m \u001b[0mtrain_end\u001b[0m\u001b[0;34m,\u001b[0m \u001b[0mvalid_start\u001b[0m\u001b[0;34m,\u001b[0m \u001b[0mvalid_end\u001b[0m\u001b[0;34m,\u001b[0m \u001b[0mtest_start\u001b[0m\u001b[0;34m,\u001b[0m \u001b[0mtest_end\u001b[0m\u001b[0;34m)\u001b[0m\u001b[0;34m\u001b[0m\u001b[0;34m\u001b[0m\u001b[0m\n\u001b[0m\u001b[1;32m     38\u001b[0m \u001b[0;32melif\u001b[0m \u001b[0marg_dict\u001b[0m\u001b[0;34m[\u001b[0m\u001b[0;34m\"execute_mode\"\u001b[0m\u001b[0;34m]\u001b[0m \u001b[0;34m==\u001b[0m \u001b[0;34m\"train\"\u001b[0m\u001b[0;34m:\u001b[0m\u001b[0;34m\u001b[0m\u001b[0;34m\u001b[0m\u001b[0m\n\u001b[1;32m     39\u001b[0m     \u001b[0mom\u001b[0m\u001b[0;34m.\u001b[0m\u001b[0mtrain\u001b[0m\u001b[0;34m(\u001b[0m\u001b[0;34m)\u001b[0m\u001b[0;34m\u001b[0m\u001b[0;34m\u001b[0m\u001b[0m\n",
      "\u001b[0;32m~/Dropbox/btc/aleister/src/master.py\u001b[0m in \u001b[0;36mpreprocessing\u001b[0;34m(self, sym, train_start, train_end, valid_start, valid_end, test_start, test_end)\u001b[0m\n\u001b[1;32m     94\u001b[0m         \u001b[0morderbooks\u001b[0m \u001b[0;34m=\u001b[0m \u001b[0mself\u001b[0m\u001b[0;34m.\u001b[0m\u001b[0mdg\u001b[0m\u001b[0;34m.\u001b[0m\u001b[0mget_hist_orderbooks\u001b[0m\u001b[0;34m(\u001b[0m\u001b[0msym\u001b[0m\u001b[0;34m=\u001b[0m\u001b[0msym\u001b[0m\u001b[0;34m,\u001b[0m \u001b[0msd\u001b[0m\u001b[0;34m=\u001b[0m\u001b[0mfetch_start\u001b[0m\u001b[0;34m,\u001b[0m \u001b[0med\u001b[0m\u001b[0;34m=\u001b[0m\u001b[0mfetch_end\u001b[0m\u001b[0;34m)\u001b[0m\u001b[0;34m\u001b[0m\u001b[0;34m\u001b[0m\u001b[0m\n\u001b[1;32m     95\u001b[0m         \u001b[0mself\u001b[0m\u001b[0;34m.\u001b[0m\u001b[0mfp\u001b[0m\u001b[0;34m.\u001b[0m\u001b[0m_logger\u001b[0m\u001b[0;34m.\u001b[0m\u001b[0minfo\u001b[0m\u001b[0;34m(\u001b[0m\u001b[0;34m\"[DONE] Get prepro raw data. {0}~{1}\"\u001b[0m\u001b[0;34m.\u001b[0m\u001b[0mformat\u001b[0m\u001b[0;34m(\u001b[0m\u001b[0mfetch_start\u001b[0m\u001b[0;34m,\u001b[0m\u001b[0mfetch_end\u001b[0m\u001b[0;34m)\u001b[0m\u001b[0;34m)\u001b[0m\u001b[0;34m\u001b[0m\u001b[0;34m\u001b[0m\u001b[0m\n\u001b[0;32m---> 96\u001b[0;31m         \u001b[0mXy\u001b[0m \u001b[0;34m=\u001b[0m \u001b[0mself\u001b[0m\u001b[0;34m.\u001b[0m\u001b[0mdg\u001b[0m\u001b[0;34m.\u001b[0m\u001b[0mget_Xy\u001b[0m\u001b[0;34m(\u001b[0m\u001b[0mtrades\u001b[0m\u001b[0;34m)\u001b[0m\u001b[0;34m\u001b[0m\u001b[0;34m\u001b[0m\u001b[0m\n\u001b[0m\u001b[1;32m     97\u001b[0m \u001b[0;34m\u001b[0m\u001b[0m\n\u001b[1;32m     98\u001b[0m         \u001b[0;31m# prepro\u001b[0m\u001b[0;34m\u001b[0m\u001b[0;34m\u001b[0m\u001b[0;34m\u001b[0m\u001b[0m\n",
      "\u001b[0;31mTypeError\u001b[0m: get_Xy() missing 1 required positional argument: 'orderbooks'"
     ]
    }
   ],
   "source": [
    "parser = make_parser()\n",
    "arg_dict = vars(parser.parse_args(args))\n",
    "\n",
    "#meta\n",
    "_id = arg_dict[\"model_id\"]\n",
    "config_mode = arg_dict[\"config_mode\"].upper()\n",
    "model_name = arg_dict[\"model_name\"].upper()\n",
    "\n",
    "# period\n",
    "train_start = arg_dict[\"train_start_date\"] if \"train_start_date\" in arg_dict.keys() else None\n",
    "train_end = arg_dict[\"train_end_date\"] if \"train_end_date\" in arg_dict.keys() else None\n",
    "valid_start = arg_dict[\"valid_start_date\"] if \"valid_start_date\" in arg_dict.keys() else None\n",
    "valid_end = arg_dict[\"valid_end_date\"]if \"valid_end_date\" in arg_dict.keys() else None\n",
    "test_start = arg_dict[\"test_start_date\"] if \"test_start_date\" in arg_dict.keys() else None\n",
    "test_end = arg_dict[\"test_end_date\"] if \"test_end_date\" in arg_dict.keys() else None\n",
    "\n",
    "# sym\n",
    "sym = arg_dict[\"symbol\"] \n",
    "\n",
    "# load meta info\n",
    "om = OperateMaster()\n",
    "om.load_meta(_id, config_mode)\n",
    "\n",
    "# load conofigs into each module\n",
    "om.init_prepro()\n",
    "\n",
    "\n",
    "mlflow_tags = {\n",
    "    \"user\":arg_dict[\"user\"],\n",
    "    \"source\":arg_dict[\"source\"],\n",
    "    \"run_name\": f\"TRAIN_{dt.now().strftime('%y%m%d%H%M%s')}\"\n",
    "}\n",
    "om.init_learning( config_mode,mlflow_tags)\n",
    "\n",
    "if arg_dict[\"execute_mode\"] == \"prepro\":\n",
    "    om.init_dataGen()\n",
    "    om.preprocessing(sym, train_start, train_end, valid_start, valid_end, test_start, test_end)\n",
    "elif arg_dict[\"execute_mode\"] == \"train\":\n",
    "    om.train()\n",
    "elif arg_dict[\"execute_mode\"] == \"gtrain\":\n",
    "    om.gtrain()\n",
    "elif arg_dict[\"execute_mode\"] == \"rpredict\":\n",
    "    om.init_dataGen(remote=True)\n",
    "    om.predict()\n",
    "\n",
    "else:\n",
    "    pass"
   ]
  },
  {
   "cell_type": "code",
   "execution_count": null,
   "metadata": {},
   "outputs": [],
   "source": []
  },
  {
   "cell_type": "code",
   "execution_count": 9,
   "metadata": {},
   "outputs": [
    {
     "ename": "NameError",
     "evalue": "name 'le' is not defined",
     "output_type": "error",
     "traceback": [
      "\u001b[0;31m---------------------------------------------------------------------------\u001b[0m",
      "\u001b[0;31mNameError\u001b[0m                                 Traceback (most recent call last)",
      "\u001b[0;32m/var/folders/wh/fbndz0bn4vv4gvq6jz0b3czc0000gn/T/ipykernel_97820/736194057.py\u001b[0m in \u001b[0;36m<module>\u001b[0;34m\u001b[0m\n\u001b[0;32m----> 1\u001b[0;31m \u001b[0mle\u001b[0m\u001b[0;34m.\u001b[0m\u001b[0mloss_fn\u001b[0m\u001b[0;34m(\u001b[0m\u001b[0mle\u001b[0m\u001b[0;34m.\u001b[0m\u001b[0mb\u001b[0m\u001b[0;34m,\u001b[0m \u001b[0mle\u001b[0m\u001b[0;34m.\u001b[0m\u001b[0mc\u001b[0m\u001b[0;34m)\u001b[0m\u001b[0;34m.\u001b[0m\u001b[0mbackward\u001b[0m\u001b[0;34m(\u001b[0m\u001b[0;34m)\u001b[0m\u001b[0;34m\u001b[0m\u001b[0;34m\u001b[0m\u001b[0m\n\u001b[0m",
      "\u001b[0;31mNameError\u001b[0m: name 'le' is not defined"
     ]
    }
   ],
   "source": [
    "le.loss_fn(le.b, le.c).backward()"
   ]
  },
  {
   "cell_type": "code",
   "execution_count": null,
   "metadata": {},
   "outputs": [],
   "source": [
    "from mlflow.entities import ViewType\n",
    "#serch runs\n",
    "# query = \"params.model = 'CNN' and params.layers = '10' and metrics.`prediction accuracy` >= 0.945\"\n",
    "query = None\n",
    "run_info = le.mlwriter.client.search_runs(experiment_ids=[\"1\"], filter_string=query, run_view_type=ViewType.ACTIVE_ONLY)[0]\n",
    "uri =  os.path.join(run_info.info.artifact_uri, \"model\" ) \n",
    "mlflow.pytorch.load_model(uri)"
   ]
  },
  {
   "cell_type": "code",
   "execution_count": null,
   "metadata": {},
   "outputs": [],
   "source": [
    "model_info = le.mlwriter.client.get_latest_versions(\"test_model\")[0]\n",
    "mlflow.pytorch.load_model(model_info.source)"
   ]
  },
  {
   "cell_type": "code",
   "execution_count": null,
   "metadata": {},
   "outputs": [],
   "source": [
    "for  i in le.ys:\n",
    "    print(i)"
   ]
  },
  {
   "cell_type": "code",
   "execution_count": null,
   "metadata": {},
   "outputs": [],
   "source": [
    "import joblib\n",
    "load_path=\"/Users/macico/Dropbox/btc_data/model/test001/X_test.jbl\"\n",
    "with open(load_path, mode=\"rb\") as f:\n",
    "    data = joblib.load(f)\n",
    "data"
   ]
  },
  {
   "cell_type": "code",
   "execution_count": null,
   "metadata": {},
   "outputs": [],
   "source": []
  }
 ],
 "metadata": {
  "interpreter": {
   "hash": "b45f9670391769e061d21fde4a80e23c28183b0e668940abb0d6257953f3010d"
  },
  "kernelspec": {
   "display_name": "Python 3.7.6 64-bit ('py37b': pyenv)",
   "name": "python3"
  },
  "language_info": {
   "codemirror_mode": {
    "name": "ipython",
    "version": 3
   },
   "file_extension": ".py",
   "mimetype": "text/x-python",
   "name": "python",
   "nbconvert_exporter": "python",
   "pygments_lexer": "ipython3",
   "version": "3.7.6"
  },
  "orig_nbformat": 4
 },
 "nbformat": 4,
 "nbformat_minor": 2
}
