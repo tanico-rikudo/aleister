{
 "cells": [
  {
   "cell_type": "code",
   "execution_count": null,
   "metadata": {},
   "outputs": [],
   "source": [
    "%load_ext autoreload\n",
    "\n",
    "%autoreload 2\n"
   ]
  },
  {
   "cell_type": "code",
   "execution_count": null,
   "metadata": {},
   "outputs": [],
   "source": [
    "import os,sys\n",
    "os.environ['BASE_DIR'] =  '/Users/macico/Dropbox/btc'\n",
    "os.environ['KULOKO_DIR'] = os.path.join(os.environ['BASE_DIR'], \"kuloko\")\n",
    "os.environ['ALEISTER_DIR'] = os.path.join(os.environ['BASE_DIR'], \"aleister\")\n",
    "os.environ['COMMON_DIR'] = os.path.join(os.environ['BASE_DIR'], \"geco_commons\")\n",
    "os.environ['KULOKO_INI'] = os.path.join(os.environ['COMMON_DIR'], \"ini\")\n",
    "os.environ['ALEISTER_INI'] = os.path.join(os.environ['COMMON_DIR'], \"ini\")\n",
    "os.environ['MONGO_DIR'] = os.path.join(os.environ['COMMON_DIR'] ,\"mongodb\")\n",
    "os.environ['LOGDIR'] = os.path.join(os.environ['KULOKO_DIR'], \"log\")\n",
    "# os.environ['MLFLOW_TRACKING_URI'] = os.path.join(os.environ['BASE_DIR'], \"mlruns\")\n",
    "# OS.environ['MLFLOW_ARTIFACTS_URI'] = os.path.join(os.environ['BASE_DIR'], \"mlruns\")\n",
    "os.environ['MLFLOW_TRACKING_URI'] = 'http://localhost:5000'\n",
    "os.environ['MLFLOW_ARTIFACTS_URI'] = os.path.join(os.environ['BASE_DIR'], \"mlruns\")\n",
    "os.environ['DEFAULT_LOCAL_FILE_AND_ARTIFACT_PATH'] = os.path.join(os.environ['BASE_DIR'], \"mlruns\")\n",
    "sys.path.append(os.path.join(os.environ['KULOKO_DIR'],\"items\" ))\n"
   ]
  },
  {
   "cell_type": "code",
   "execution_count": null,
   "metadata": {},
   "outputs": [],
   "source": [
    "\n",
    "\n",
    "import master\n",
    "from master import *\n",
    "from datetime import datetime as dt"
   ]
  },
  {
   "cell_type": "code",
   "execution_count": null,
   "metadata": {},
   "outputs": [],
   "source": [
    "\n",
    "\n",
    "#meta\n",
    "_id = \"test002\"\n",
    "config_mode = \"DEV\"\n",
    "model_name = \"SLSTM\"\n",
    "\n",
    "\n",
    "# sym\n",
    "sym = \"BTC\"\n",
    "\n",
    "# load all parent modules\n",
    "fp = featurePreprocess(_id)\n",
    "fp.load_general_config(source=\"ini\", path=None,mode=config_mode)\n",
    "fp.load_model_config(source=\"ini\", path=None,model_name=model_name)"
   ]
  },
  {
   "cell_type": "code",
   "execution_count": null,
   "metadata": {},
   "outputs": [],
   "source": [
    "\n",
    "dg =  DataGen()\n",
    "dg.get_load_data_proxy()\n",
    "fetch_start = 20210201\n",
    "fetch_end = 20210228\n",
    "train_start = 20210201\n",
    "train_end = 20210208\n",
    "valid_start = 20210209\n",
    "valid_end = 20210215\n",
    "test_start = 20210216\n",
    "test_end = 20210222\n",
    "trades = dg.get_trades(sym=sym, sd=fetch_start, ed=fetch_end)\n",
    "fp._logger.info(\"[DONE] Get prepro raw data. {0}~{1}\".format(fetch_start,fetch_end))\n",
    "Xy = dg.get_Xy(trades)"
   ]
  },
  {
   "cell_type": "code",
   "execution_count": null,
   "metadata": {},
   "outputs": [],
   "source": [
    "Xy "
   ]
  },
  {
   "cell_type": "code",
   "execution_count": null,
   "metadata": {},
   "outputs": [],
   "source": [
    "# prepro\n",
    "ans_col = fp.model_config.get(\"ANS_COL\")\n",
    "X_train, X_val, X_test, y_train, y_val, y_test = \\\n",
    "    fp.convert_dataset(Xy, ans_col, \"period\", \n",
    "                        train_start=train_start, train_end=train_end, \n",
    "                        valid_start=valid_start, valid_end=valid_end, \n",
    "                        test_start=test_start, test_end=test_end)\n",
    "# X_train, X_val, X_test, y_train, y_val, y_test = fp.convert_dataset(Xy, ans_col,split_rule=\"period\", test_ratio=0.4, valid_ratio=0.5)\n",
    "scaler  = fp.get_scaler(\"minmax\")\n",
    "X_train,x_scaler = fp.scalingX(X_train)\n",
    "X_val,_ = fp.scalingX(X_val,x_scaler)\n",
    "X_test,_ = fp.scalingX(X_test,x_scaler)"
   ]
  },
  {
   "cell_type": "code",
   "execution_count": null,
   "metadata": {},
   "outputs": [],
   "source": [
    "import torch\n",
    "\n",
    "from custom_dataloader import SequenceDataset\n",
    "X_trains = [X_train]\n",
    "train_features = [ torch.Tensor(X_train) for X_train in X_trains] \n",
    "train_targets = torch.Tensor(y_train)\n",
    "\n",
    "# make dataset \n",
    "train = SequenceDataset(*train_features, train_targets, **{\"window_size\":10,\"batch_size\":2})"
   ]
  },
  {
   "cell_type": "code",
   "execution_count": null,
   "metadata": {},
   "outputs": [],
   "source": [
    "from torch.utils.data import TensorDataset, DataLoader\n",
    "train_loader = DataLoader(train, batch_size=64, shuffle=False, drop_last=True)"
   ]
  },
  {
   "cell_type": "code",
   "execution_count": null,
   "metadata": {},
   "outputs": [],
   "source": [
    "for a,b in  train_loader:\n",
    "    print(a)\n",
    "    break"
   ]
  },
  {
   "cell_type": "code",
   "execution_count": null,
   "metadata": {},
   "outputs": [],
   "source": [
    "a = np.array([0.09725063,0.10534658,0.10118312,0.10872556,0.8832147,0.2715066,\n",
    " 0.06436768])"
   ]
  },
  {
   "cell_type": "code",
   "execution_count": null,
   "metadata": {},
   "outputs": [],
   "source": []
  },
  {
   "cell_type": "code",
   "execution_count": null,
   "metadata": {},
   "outputs": [],
   "source": [
    "\n",
    "np.repeat(train.Xs[0][0][None,:], 0, axis=0)"
   ]
  },
  {
   "cell_type": "code",
   "execution_count": null,
   "metadata": {},
   "outputs": [],
   "source": [
    "train.Xs[0][0]\n"
   ]
  },
  {
   "cell_type": "code",
   "execution_count": null,
   "metadata": {},
   "outputs": [],
   "source": []
  }
 ],
 "metadata": {
  "interpreter": {
   "hash": "b45f9670391769e061d21fde4a80e23c28183b0e668940abb0d6257953f3010d"
  },
  "kernelspec": {
   "display_name": "Python 3.7.6 64-bit ('py37b': pyenv)",
   "language": "python",
   "name": "python3"
  },
  "language_info": {
   "codemirror_mode": {
    "name": "ipython",
    "version": 3
   },
   "file_extension": ".py",
   "mimetype": "text/x-python",
   "name": "python",
   "nbconvert_exporter": "python",
   "pygments_lexer": "ipython3",
   "version": "3.7.6"
  },
  "orig_nbformat": 4
 },
 "nbformat": 4,
 "nbformat_minor": 2
}
