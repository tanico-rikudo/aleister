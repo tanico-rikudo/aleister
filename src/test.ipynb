{
 "cells": [
  {
   "cell_type": "code",
   "execution_count": 1,
   "metadata": {},
   "outputs": [],
   "source": [
    "%load_ext autoreload\n",
    "%autoreload 2\n"
   ]
  },
  {
   "cell_type": "code",
   "execution_count": 2,
   "metadata": {},
   "outputs": [
    {
     "name": "stdout",
     "output_type": "stream",
     "text": [
      "The autoreload extension is already loaded. To reload it, use:\n",
      "  %reload_ext autoreload\n"
     ]
    }
   ],
   "source": []
  },
  {
   "cell_type": "code",
   "execution_count": 15,
   "metadata": {},
   "outputs": [
    {
     "name": "stderr",
     "output_type": "stream",
     "text": [
      "/Users/macico/Dropbox/btc/aleister/src/gen_data.py:51: RuntimeWarning:\n",
      "\n",
      "divide by zero encountered in log10\n",
      "\n",
      "/Users/macico/Dropbox/btc/aleister/src/gen_data.py:71: SettingWithCopyWarning:\n",
      "\n",
      "\n",
      "A value is trying to be set on a copy of a slice from a DataFrame\n",
      "\n",
      "See the caveats in the documentation: https://pandas.pydata.org/pandas-docs/stable/user_guide/indexing.html#returning-a-view-versus-a-copy\n",
      "\n"
     ]
    }
   ],
   "source": [
    "\n",
    "\n",
    "sd = 20200101\n",
    "ed = 20200131\n",
    "sym= 'BTC'\n",
    "ans_col = \"movingBinary\"\n",
    "batch_size=64\n",
    "\n",
    "import os,sys\n",
    "import logging\n",
    "import logging.config\n",
    "os.environ['BASE_DIR'] =  '/Users/macico/Dropbox/btc'\n",
    "os.environ['KULOKO_DIR'] = os.path.join(os.environ['BASE_DIR'], \"kuloko\")\n",
    "os.environ['ALEISTER_DIR'] = os.path.join(os.environ['BASE_DIR'], \"aleister\")\n",
    "os.environ['COMMON_DIR'] = os.path.join(os.environ['BASE_DIR'], \"geco_commons\")\n",
    "os.environ['MONGO_DIR'] = os.path.join(os.environ['COMMON_DIR'] ,\"mongodb\")\n",
    "os.environ['LOGDIR'] = os.path.join(os.environ['KULOKO_DIR'], \"log\")\n",
    "sys.path.append(os.path.join(os.environ['KULOKO_DIR'],\"items\" ))\n",
    "\n",
    "sys.path.append(os.path.join(os.path.dirname('__file__'),'..'))\n",
    "os.environ['INIDIR'] = '/Users/macico/Dropbox/btc/kuloko/ini'\n",
    "INIDIR=os.environ['INIDIR'] \n",
    "LOGDIR=os.environ['LOGDIR']\n",
    "\n",
    "logging.config.fileConfig(os.path.join(INIDIR,'logconfig.ini'),defaults={'logfilename': os.path.join(LOGDIR,'logging.log')})\n",
    "logger = logging.getLogger(\"ALEISTER\")\n",
    "\n",
    "from  gen_data import DataGen\n",
    "from  feature_preprocess import featurePreprocess\n",
    "from learning_executor import LearningEvaluator\n",
    "\n",
    "# gen data \n",
    "dg =  DataGen()\n",
    "dg.get_load_data_proxy()\n",
    "trades = dg.get_trades(sym=sym, sd=sd, ed=ed)\n",
    "Xy = dg.get_Xy(trades)\n",
    "\n",
    "# prepro\n",
    "fp = featurePreprocess(logger)\n",
    "X_train, X_val, X_test, y_train, y_val, y_test = fp.convert_dataset(Xy, ans_col, test_ratio=0.4, valid_ratio=0.5)\n",
    "scaler  = fp.get_scaler(\"minmax\")\n",
    "X_train,x_scaler = fp.scalingX(X_train)\n",
    "X_val,_ = fp.scalingX(X_val,x_scaler)\n",
    "X_test,_ = fp.scalingX(X_test,x_scaler)\n",
    "\n",
    "train_loader, val_loader, test_loader, test_loader_one = fp.get_dataloader(X_train, y_train, X_val,y_val, X_test, y_test,batch_size)\n",
    "\n",
    "input_dim = X_train.shape[1]\n",
    "\n",
    "\n",
    "le = LearningEvaluator(name=\"TEST_MODEL\", logger = logger)\n",
    "le.get_device()\n",
    "\n",
    "model_params = {\n",
    "    'input_dim': input_dim,\n",
    "    'hidden_dim' : 32,\n",
    "    'layer_dim' : 64,\n",
    "    'output_dim' : 1\n",
    "}\n",
    "le.get_model_instance(\"sdnn\",model_params)\n",
    "\n",
    "lossfn_params = {}\n",
    "le.get_loss_fn(\"BCELogitLoss\",{})\n",
    "\n",
    "optim_params = {\n",
    "    'params': le.model.parameters(),\n",
    "    'weight_decay': 1e-6,\n",
    "    'lr' : 1e-3\n",
    "    }\n",
    "le.get_optimizer(\"adam\",optim_params)\n",
    "\n",
    "le.train(train_loader, val_loader, batch_size=batch_size, n_epochs=50, n_features=1)\n",
    "le.plot_losses()\n",
    "predictions, values = le.evaluate(\n",
    "    test_loader_one,\n",
    "    batch_size=1,\n",
    "    n_features=input_dim\n",
    ")"
   ]
  },
  {
   "cell_type": "code",
   "execution_count": 22,
   "metadata": {},
   "outputs": [],
   "source": [
    "predictions, values = le.evaluate(\n",
    "    test_loader,\n",
    "    batch_size=1,\n",
    "    n_features=input_dim\n",
    ")\n"
   ]
  },
  {
   "cell_type": "code",
   "execution_count": 1,
   "metadata": {},
   "outputs": [
    {
     "ename": "NameError",
     "evalue": "name 'predictions' is not defined",
     "output_type": "error",
     "traceback": [
      "\u001b[0;31m---------------------------------------------------------------------------\u001b[0m",
      "\u001b[0;31mNameError\u001b[0m                                 Traceback (most recent call last)",
      "\u001b[0;32m<ipython-input-1-fd2951b82103>\u001b[0m in \u001b[0;36m<module>\u001b[0;34m\u001b[0m\n\u001b[0;32m----> 1\u001b[0;31m \u001b[0mpredictions\u001b[0m\u001b[0;34m\u001b[0m\u001b[0;34m\u001b[0m\u001b[0m\n\u001b[0m",
      "\u001b[0;31mNameError\u001b[0m: name 'predictions' is not defined"
     ]
    }
   ],
   "source": [
    "predictions\n"
   ]
  },
  {
   "cell_type": "code",
   "execution_count": 21,
   "metadata": {},
   "outputs": [
    {
     "name": "stderr",
     "output_type": "stream",
     "text": [
      "/Users/macico/.pyenv/versions/py37b/lib/python3.7/site-packages/plotly/offline/offline.py:563: UserWarning:\n",
      "\n",
      "Your filename `basic-line` didn't end with .html. Adding .html to the end of your file.\n",
      "\n"
     ]
    }
   ],
   "source": []
  },
  {
   "cell_type": "code",
   "execution_count": 24,
   "metadata": {},
   "outputs": [
    {
     "data": {
      "text/plain": [
       "0.001"
      ]
     },
     "execution_count": 24,
     "metadata": {},
     "output_type": "execute_result"
    }
   ],
   "source": [
    "int(\"1e-3\")"
   ]
  },
  {
   "cell_type": "code",
   "execution_count": null,
   "metadata": {},
   "outputs": [],
   "source": []
  },
  {
   "cell_type": "code",
   "execution_count": null,
   "metadata": {},
   "outputs": [],
   "source": []
  }
 ],
 "metadata": {
  "interpreter": {
   "hash": "b45f9670391769e061d21fde4a80e23c28183b0e668940abb0d6257953f3010d"
  },
  "kernelspec": {
   "display_name": "Python 3.7.6 64-bit ('py37b': pyenv)",
   "name": "python3"
  },
  "language_info": {
   "codemirror_mode": {
    "name": "ipython",
    "version": 3
   },
   "file_extension": ".py",
   "mimetype": "text/x-python",
   "name": "python",
   "nbconvert_exporter": "python",
   "pygments_lexer": "ipython3",
   "version": "3.7.6"
  },
  "orig_nbformat": 4
 },
 "nbformat": 4,
 "nbformat_minor": 2
}
